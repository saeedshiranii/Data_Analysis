{
 "cells": [
  {
   "cell_type": "markdown",
   "id": "25dae082-d7f5-4760-ad54-aabd780aff6f",
   "metadata": {},
   "source": [
    "# https://www.youtube.com/watch?v=Jqkyu2Bm_pY&list=PLlbbWgBRF8EePgK40-i7aGU2_ky1yujgL&index=7\n",
    "# https://www.youtube.com/watch?v=I4yGOYBGfqI\n",
    "# https://www.youtube.com/watch?v=uwPWuTN7b1I\n",
    "# https://www.youtube.com/watch?v=Jqkyu2Bm_pY\n",
    "# https://www.youtube.com/watch?v=Jqkyu2Bm_pY\n",
    "# https://www.youtube.com/watch?v=ApmvZ0KZwI8\n",
    "# https://www.youtube.com/watch?v=I4yGOYBGfqI"
   ]
  },
  {
   "cell_type": "code",
   "execution_count": null,
   "id": "31f386e2-bdac-4bc4-93f0-2c90b1ecd499",
   "metadata": {},
   "outputs": [],
   "source": []
  }
 ],
 "metadata": {
  "kernelspec": {
   "display_name": "Python 3 (ipykernel)",
   "language": "python",
   "name": "python3"
  },
  "language_info": {
   "codemirror_mode": {
    "name": "ipython",
    "version": 3
   },
   "file_extension": ".py",
   "mimetype": "text/x-python",
   "name": "python",
   "nbconvert_exporter": "python",
   "pygments_lexer": "ipython3",
   "version": "3.11.4"
  }
 },
 "nbformat": 4,
 "nbformat_minor": 5
}
