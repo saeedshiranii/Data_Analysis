{
 "cells": [
  {
   "cell_type": "markdown",
   "id": "6e881611-bc58-48c7-8f37-a5d9da4b905d",
   "metadata": {},
   "source": [
    "# movie recomendation\n",
    "\n",
    "### i will use these datasets from kaggle\n",
    "\n",
    "https://www.kaggle.com/datasets/lakshmi25npathi/imdb-dataset-of-50k-movie-reviews\n",
    "\n",
    "https://www.kaggle.com/datasets/tunguz/movietweetings\n",
    "\n",
    "https://www.kaggle.com/datasets/rounakbanik/the-movies-dataset"
   ]
  },
  {
   "cell_type": "code",
   "execution_count": 47,
   "id": "3ea47fd7-4a72-4bfc-9c64-c97abf868067",
   "metadata": {},
   "outputs": [],
   "source": [
    "import pandas as pd"
   ]
  },
  {
   "cell_type": "code",
   "execution_count": 48,
   "id": "55195ff4-b8a4-401a-90a7-bf191ec0aea8",
   "metadata": {},
   "outputs": [],
   "source": [
    "path_50k_review = \"C:/Users/Saeed/Documents/GitHub/Data_Analysis/Movie recomendation/IMDB Dataset of50K Movie Reviews/\"\n",
    "path_MovieTweetings = \"C:/Users/Saeed/Documents/GitHub/Data_Analysis/Movie recomendation/MovieTweetings/\"\n",
    "path_The_Movies_Dataset = \"C:/Users/Saeed/Documents/GitHub/Data_Analysis/Movie recomendation/The Movies Dataset/\""
   ]
  },
  {
   "cell_type": "code",
   "execution_count": 42,
   "id": "9db5e3b0-d54e-47c1-abbc-3bbbcb40c33f",
   "metadata": {},
   "outputs": [
    {
     "data": {
      "text/plain": [
       "'C:\\\\Users\\\\Saeed\\\\Documents\\\\GitHub\\\\Data_Analysis\\\\Movie recomendation'"
      ]
     },
     "execution_count": 42,
     "metadata": {},
     "output_type": "execute_result"
    }
   ],
   "source": [
    "pwd"
   ]
  },
  {
   "cell_type": "code",
   "execution_count": 44,
   "id": "473cd2d9-2de0-4ded-9b20-2a877c0d818c",
   "metadata": {},
   "outputs": [
    {
     "name": "stdout",
     "output_type": "stream",
     "text": [
      " Volume in drive C has no label.\n",
      " Volume Serial Number is CE93-B2F3\n",
      "\n",
      " Directory of C:\\Users\\Saeed\\Documents\\GitHub\\Data_Analysis\\Movie recomendation\n",
      "\n",
      "2023/08/30  10:48 UšOš¥    <DIR>          .\n",
      "2023/08/30  10:48 UšOš¥    <DIR>          ..\n",
      "2023/08/30  01:06 UšOš¥    <DIR>          .ipynb_checkpoints\n",
      "2023/08/30  02:53 UšOš¥    <DIR>          IMDB Dataset of50K Movie Reviews\n",
      "2023/08/30  10:48 UšOš¥             2,821 movie_recomendation.ipynb\n",
      "2023/08/20  07:27 UšOš¥    <DIR>          MovieTweetings\n",
      "2023/08/20  07:26 UšOš¥    <DIR>          The Movies Dataset\n",
      "               1 File(s)          2,821 bytes\n",
      "               6 Dir(s)  43,852,849,152 bytes free\n"
     ]
    }
   ],
   "source": [
    "ls"
   ]
  },
  {
   "cell_type": "code",
   "execution_count": 45,
   "id": "ed8b5e97-11f3-4116-96ef-151bc7eb34fb",
   "metadata": {},
   "outputs": [
    {
     "name": "stdout",
     "output_type": "stream",
     "text": [
      "C:\\Users\\Saeed\\Documents\\GitHub\\Data_Analysis\\Movie recomendation\\The Movies Dataset\n"
     ]
    }
   ],
   "source": [
    "cd The Movies Dataset"
   ]
  },
  {
   "cell_type": "code",
   "execution_count": 46,
   "id": "de9dc323-56d1-40f9-887b-6b528b39eb62",
   "metadata": {},
   "outputs": [
    {
     "name": "stdout",
     "output_type": "stream",
     "text": [
      " Volume in drive C has no label.\n",
      " Volume Serial Number is CE93-B2F3\n",
      "\n",
      " Directory of C:\\Users\\Saeed\\Documents\\GitHub\\Data_Analysis\\Movie recomendation\\The Movies Dataset\n",
      "\n",
      "2023/08/20  07:26 UšOš¥    <DIR>          .\n",
      "2023/08/20  07:26 UšOš¥    <DIR>          ..\n",
      "2019/09/21  09:29 OšEšI       189,917,659 credits.csv\n",
      "2019/09/21  09:29 OšEšI         6,231,943 keywords.csv\n",
      "2019/09/21  09:29 OšEšI           989,107 links.csv\n",
      "2019/09/21  09:29 OšEšI           183,372 links_small.csv\n",
      "2019/09/21  09:29 OšEšI        34,445,126 movies_metadata.csv\n",
      "2019/09/21  09:29 OšEšI       709,550,327 ratings.csv\n",
      "2019/09/21  09:30 OšEšI         2,438,266 ratings_small.csv\n",
      "2023/08/20  07:26 UšOš¥                90 Readme.txt\n",
      "               8 File(s)    943,755,890 bytes\n",
      "               2 Dir(s)  43,852,427,264 bytes free\n"
     ]
    }
   ],
   "source": [
    "ls"
   ]
  },
  {
   "cell_type": "code",
   "execution_count": 52,
   "id": "528b5d5e-0871-4c84-aa00-d2bf5209fea2",
   "metadata": {},
   "outputs": [],
   "source": [
    "#  load datasets\n",
    "movies_dataset_credits = pd.read_csv(f\"{path_The_Movies_Dataset}credits.csv\")\n",
    "movies_dataset_keywords = pd.read_csv(f\"{path_The_Movies_Dataset}keywords.csv\")\n",
    "movies_dataset_links = pd.read_csv(f\"{path_The_Movies_Dataset}links.csv\")\n",
    "movies_dataset_links_small = pd.read_csv(f\"{path_The_Movies_Dataset}links_small.csv\")\n",
    "movies_dataset_movies_metadata = pd.read_csv(f\"{path_The_Movies_Dataset}movies_metadata.csv\", low_memory=False)\n",
    "movies_dataset_ratings = pd.read_csv(f\"{path_The_Movies_Dataset}ratings.csv\")\n",
    "movies_dataset_ratings_small = pd.read_csv(f\"{path_The_Movies_Dataset}ratings_small.csv\")"
   ]
  },
  {
   "cell_type": "code",
   "execution_count": 104,
   "id": "947b7890-ebd2-4fff-b57e-c020591fbe19",
   "metadata": {},
   "outputs": [
    {
     "name": "stdout",
     "output_type": "stream",
     "text": [
      "Index(['cast', 'crew', 'id'], dtype='object')\n",
      "\n",
      "Index(['id', 'keywords'], dtype='object')\n",
      "\n",
      "Index(['movieId', 'imdbId', 'tmdbId'], dtype='object')\n",
      "\n",
      "Index(['movieId', 'imdbId', 'tmdbId'], dtype='object')\n",
      "\n",
      "Index(['adult', 'belongs_to_collection', 'budget', 'genres', 'homepage', 'id',\n",
      "       'imdb_id', 'original_language', 'original_title', 'overview',\n",
      "       'popularity', 'poster_path', 'production_companies',\n",
      "       'production_countries', 'release_date', 'revenue', 'runtime',\n",
      "       'spoken_languages', 'status', 'tagline', 'title', 'video',\n",
      "       'vote_average', 'vote_count'],\n",
      "      dtype='object')\n",
      "\n",
      "Index(['userId', 'movieId', 'rating', 'timestamp'], dtype='object')\n",
      "\n",
      "Index(['userId', 'movieId', 'rating', 'timestamp'], dtype='object')\n",
      "\n"
     ]
    }
   ],
   "source": [
    "movie_name = [movies_dataset_credits,\n",
    "movies_dataset_keywords,\n",
    "movies_dataset_links,\n",
    "movies_dataset_links_small,\n",
    "movies_dataset_movies_metadata,\n",
    "movies_dataset_ratings,\n",
    "movies_dataset_ratings_small]\n",
    "\n",
    "for name in movie_name:\n",
    "    print(name.columns)\n",
    "    print()\n",
    "    \n"
   ]
  },
  {
   "cell_type": "code",
   "execution_count": 100,
   "id": "226615b5-34c6-4a45-b961-27970b5f1ac3",
   "metadata": {},
   "outputs": [
    {
     "data": {
      "text/plain": [
       "0    [{'cast_id': 14, 'character': 'Woody (voice)',...\n",
       "Name: cast, dtype: object"
      ]
     },
     "metadata": {},
     "output_type": "display_data"
    }
   ],
   "source": []
  },
  {
   "cell_type": "code",
   "execution_count": 54,
   "id": "815a036c-7482-4a29-a7b1-fd6cda3e96da",
   "metadata": {},
   "outputs": [
    {
     "name": "stdout",
     "output_type": "stream",
     "text": [
      "C:\\Users\\Saeed\\Documents\\GitHub\\Data_Analysis\\Movie recomendation\n"
     ]
    }
   ],
   "source": [
    "cd -"
   ]
  },
  {
   "cell_type": "code",
   "execution_count": 55,
   "id": "082fcaad-90f7-4a98-912b-01bcb158fafe",
   "metadata": {},
   "outputs": [
    {
     "name": "stdout",
     "output_type": "stream",
     "text": [
      " Volume in drive C has no label.\n",
      " Volume Serial Number is CE93-B2F3\n",
      "\n",
      " Directory of C:\\Users\\Saeed\\Documents\\GitHub\\Data_Analysis\\Movie recomendation\n",
      "\n",
      "2023/08/30  10:58 UšOš¥    <DIR>          .\n",
      "2023/08/30  10:58 UšOš¥    <DIR>          ..\n",
      "2023/08/30  01:06 UšOš¥    <DIR>          .ipynb_checkpoints\n",
      "2023/08/30  02:53 UšOš¥    <DIR>          IMDB Dataset of50K Movie Reviews\n",
      "2023/08/30  10:58 UšOš¥             5,848 movie_recomendation.ipynb\n",
      "2023/08/20  07:27 UšOš¥    <DIR>          MovieTweetings\n",
      "2023/08/20  07:26 UšOš¥    <DIR>          The Movies Dataset\n",
      "               1 File(s)          5,848 bytes\n",
      "               6 Dir(s)  43,732,512,768 bytes free\n"
     ]
    }
   ],
   "source": [
    "ls"
   ]
  },
  {
   "cell_type": "code",
   "execution_count": 56,
   "id": "847e5b0e-9728-48b6-847b-1e9ec99f43bf",
   "metadata": {},
   "outputs": [
    {
     "name": "stdout",
     "output_type": "stream",
     "text": [
      "C:\\Users\\Saeed\\Documents\\GitHub\\Data_Analysis\\Movie recomendation\\MovieTweetings\n"
     ]
    }
   ],
   "source": [
    "cd MovieTweetings/"
   ]
  },
  {
   "cell_type": "code",
   "execution_count": 85,
   "id": "65ccdfd0-dd44-4381-96da-e3e7d76a4121",
   "metadata": {},
   "outputs": [
    {
     "name": "stdout",
     "output_type": "stream",
     "text": [
      "C:\\Users\\Saeed\\Documents\\GitHub\\Data_Analysis\\Movie recomendation\\MovieTweetings\n"
     ]
    }
   ],
   "source": [
    "cd MovieTweetings/"
   ]
  },
  {
   "cell_type": "code",
   "execution_count": 87,
   "id": "60f7676b-7417-4978-9446-755937e5e3b9",
   "metadata": {},
   "outputs": [
    {
     "name": "stdout",
     "output_type": "stream",
     "text": [
      " Volume in drive C has no label.\n",
      " Volume Serial Number is CE93-B2F3\n",
      "\n",
      " Directory of C:\\Users\\Saeed\\Documents\\GitHub\\Data_Analysis\\Movie recomendation\\MovieTweetings\n",
      "\n",
      "2023/08/20  07:27 UšOš¥    <DIR>          .\n",
      "2023/08/20  07:27 UšOš¥    <DIR>          ..\n",
      "2021/06/08  04:19 UšOš¥         1,927,284 movies.dat\n",
      "2021/06/08  04:19 UšOš¥        27,176,012 ratings.dat\n",
      "2023/08/20  07:27 UšOš¥                55 Readme.txt\n",
      "2021/06/08  04:19 UšOš¥         1,285,091 users.dat\n",
      "               4 File(s)     30,388,442 bytes\n",
      "               2 Dir(s)  43,740,971,008 bytes free\n"
     ]
    }
   ],
   "source": [
    "ls"
   ]
  },
  {
   "cell_type": "code",
   "execution_count": 88,
   "id": "32fc0910-3bed-461a-ae33-0246e53ef643",
   "metadata": {},
   "outputs": [],
   "source": [
    "movietweeting_movies = pd.read_table('movies.dat',engine='python', sep=\"::\")\n",
    "movietweeting_ratings = pd.read_table('ratings.dat',engine='python', sep=\"::\")\n",
    "movietweeting_users = pd.read_table('users.dat',engine='python', sep=\"::\")"
   ]
  },
  {
   "cell_type": "code",
   "execution_count": 89,
   "id": "761afb2e-c233-45be-9fe5-844d096695b0",
   "metadata": {},
   "outputs": [
    {
     "name": "stdout",
     "output_type": "stream",
     "text": [
      "   0000008      Edison Kinetoscopic Record of a Sneeze (1894)  \\\n",
      "0       10                La sortie des usines Lumière (1895)   \n",
      "1       12                      The Arrival of a Train (1896)   \n",
      "2       25  The Oxford and Cambridge University Boat Race ...   \n",
      "3       91                         Le manoir du diable (1896)   \n",
      "4      131                           Une nuit terrible (1896)   \n",
      "\n",
      "     Documentary|Short  \n",
      "0    Documentary|Short  \n",
      "1    Documentary|Short  \n",
      "2                  NaN  \n",
      "3         Short|Horror  \n",
      "4  Short|Comedy|Horror  \n",
      "\n",
      "   1  0114508  8  1381006850\n",
      "0  2   499549  9  1376753198\n",
      "1  2  1305591  8  1376742507\n",
      "2  2  1428538  1  1371307089\n",
      "3  3    75314  1  1595468524\n",
      "4  3   102926  9  1590148016\n",
      "\n",
      "   1  139564917\n",
      "0  2   17528189\n",
      "1  3  522540374\n",
      "2  4  475571186\n",
      "3  5  215022153\n",
      "4  6  349681331\n",
      "\n"
     ]
    }
   ],
   "source": [
    "for name in [movietweeting_movies, movietweeting_ratings, movietweeting_users]:\n",
    "    print(name.head())\n",
    "    print()"
   ]
  },
  {
   "cell_type": "code",
   "execution_count": 74,
   "id": "fbbb716a-6058-4cbf-b547-9ef3b281fd24",
   "metadata": {},
   "outputs": [
    {
     "name": "stdout",
     "output_type": "stream",
     "text": [
      "C:\\Users\\Saeed\\Documents\\GitHub\\Data_Analysis\\Movie recomendation\\IMDB Dataset of50K Movie Reviews\n"
     ]
    }
   ],
   "source": [
    "cd IMDB Dataset of50K Movie Reviews"
   ]
  },
  {
   "cell_type": "code",
   "execution_count": 75,
   "id": "69d2a9ab-b194-43a1-82b4-f965bf1de5ac",
   "metadata": {},
   "outputs": [
    {
     "name": "stdout",
     "output_type": "stream",
     "text": [
      " Volume in drive C has no label.\n",
      " Volume Serial Number is CE93-B2F3\n",
      "\n",
      " Directory of C:\\Users\\Saeed\\Documents\\GitHub\\Data_Analysis\\Movie recomendation\\IMDB Dataset of50K Movie Reviews\n",
      "\n",
      "2023/08/30  02:53 UšOš¥    <DIR>          .\n",
      "2023/08/30  02:53 UšOš¥    <DIR>          ..\n",
      "2023/08/30  02:53 UšOš¥    <DIR>          .ipynb_checkpoints\n",
      "2019/10/19  07:24 UšOš¥        66,212,309 IMDB Dataset.csv\n",
      "               1 File(s)     66,212,309 bytes\n",
      "               3 Dir(s)  43,735,101,440 bytes free\n"
     ]
    }
   ],
   "source": [
    "ls"
   ]
  },
  {
   "cell_type": "code",
   "execution_count": 76,
   "id": "d45a64cf-ea30-4c4c-a44c-d049f45f3eec",
   "metadata": {},
   "outputs": [],
   "source": [
    "imdb_dataset = pd.read_csv(\"IMDB Dataset.csv\")"
   ]
  },
  {
   "cell_type": "code",
   "execution_count": 77,
   "id": "418a63b3-7f26-4639-b05f-6dd38e84fb98",
   "metadata": {},
   "outputs": [
    {
     "data": {
      "text/html": [
       "<div>\n",
       "<style scoped>\n",
       "    .dataframe tbody tr th:only-of-type {\n",
       "        vertical-align: middle;\n",
       "    }\n",
       "\n",
       "    .dataframe tbody tr th {\n",
       "        vertical-align: top;\n",
       "    }\n",
       "\n",
       "    .dataframe thead th {\n",
       "        text-align: right;\n",
       "    }\n",
       "</style>\n",
       "<table border=\"1\" class=\"dataframe\">\n",
       "  <thead>\n",
       "    <tr style=\"text-align: right;\">\n",
       "      <th></th>\n",
       "      <th>review</th>\n",
       "      <th>sentiment</th>\n",
       "    </tr>\n",
       "  </thead>\n",
       "  <tbody>\n",
       "    <tr>\n",
       "      <th>0</th>\n",
       "      <td>One of the other reviewers has mentioned that ...</td>\n",
       "      <td>positive</td>\n",
       "    </tr>\n",
       "    <tr>\n",
       "      <th>1</th>\n",
       "      <td>A wonderful little production. &lt;br /&gt;&lt;br /&gt;The...</td>\n",
       "      <td>positive</td>\n",
       "    </tr>\n",
       "    <tr>\n",
       "      <th>2</th>\n",
       "      <td>I thought this was a wonderful way to spend ti...</td>\n",
       "      <td>positive</td>\n",
       "    </tr>\n",
       "    <tr>\n",
       "      <th>3</th>\n",
       "      <td>Basically there's a family where a little boy ...</td>\n",
       "      <td>negative</td>\n",
       "    </tr>\n",
       "    <tr>\n",
       "      <th>4</th>\n",
       "      <td>Petter Mattei's \"Love in the Time of Money\" is...</td>\n",
       "      <td>positive</td>\n",
       "    </tr>\n",
       "  </tbody>\n",
       "</table>\n",
       "</div>"
      ],
      "text/plain": [
       "                                              review sentiment\n",
       "0  One of the other reviewers has mentioned that ...  positive\n",
       "1  A wonderful little production. <br /><br />The...  positive\n",
       "2  I thought this was a wonderful way to spend ti...  positive\n",
       "3  Basically there's a family where a little boy ...  negative\n",
       "4  Petter Mattei's \"Love in the Time of Money\" is...  positive"
      ]
     },
     "execution_count": 77,
     "metadata": {},
     "output_type": "execute_result"
    }
   ],
   "source": [
    "imdb_dataset.head()"
   ]
  },
  {
   "cell_type": "code",
   "execution_count": null,
   "id": "fb55c5b8-9135-427c-9be2-fdf116d3cf27",
   "metadata": {},
   "outputs": [],
   "source": []
  }
 ],
 "metadata": {
  "kernelspec": {
   "display_name": "Python 3 (ipykernel)",
   "language": "python",
   "name": "python3"
  },
  "language_info": {
   "codemirror_mode": {
    "name": "ipython",
    "version": 3
   },
   "file_extension": ".py",
   "mimetype": "text/x-python",
   "name": "python",
   "nbconvert_exporter": "python",
   "pygments_lexer": "ipython3",
   "version": "3.11.4"
  }
 },
 "nbformat": 4,
 "nbformat_minor": 5
}
