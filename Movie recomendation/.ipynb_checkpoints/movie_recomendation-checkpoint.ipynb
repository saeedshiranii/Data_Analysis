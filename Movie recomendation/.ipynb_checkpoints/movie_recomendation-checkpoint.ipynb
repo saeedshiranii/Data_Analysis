{
 "cells": [
  {
   "cell_type": "markdown",
   "id": "6e881611-bc58-48c7-8f37-a5d9da4b905d",
   "metadata": {},
   "source": [
    "# movie recomendation\n",
    "\n",
    "### i will use these datasets from kaggle\n",
    "\n",
    "TMDB:  https://www.kaggle.com/datasets/tmdb/tmdb-movie-metadata\n",
    "\n",
    "movie industry: https://www.kaggle.com/datasets/danielgrijalvas/movies\n",
    "\n",
    "Netflix Movies and TV Shows : https://www.kaggle.com/datasets/shivamb/netflix-shows\n",
    "\n",
    "# https://www.youtube.com/watch?v=DNIbDfrtM1g"
   ]
  },
  {
   "cell_type": "code",
   "execution_count": 1,
   "id": "b68eb568-8789-4847-b810-215f4b32f947",
   "metadata": {},
   "outputs": [],
   "source": [
    "import pandas as pd\n",
    "import numpy as np\n",
    "import seaborn as sns\n",
    "import matplotlib.pyplot as plt\n",
    "import json\n",
    "import ast\n"
   ]
  },
  {
   "cell_type": "code",
   "execution_count": 2,
   "id": "3ea47fd7-4a72-4bfc-9c64-c97abf868067",
   "metadata": {},
   "outputs": [],
   "source": [
    "tmdb_credits = pd.read_csv('TMDB 5000 Movie Dataset/tmdb_5000_credits.csv')\n",
    "tmdb_movies = pd.read_csv('TMDB 5000 Movie Dataset/tmdb_5000_movies.csv')"
   ]
  },
  {
   "cell_type": "code",
   "execution_count": 3,
   "id": "05069e3c-f462-419c-aedd-9e9c1458d069",
   "metadata": {},
   "outputs": [
    {
     "data": {
      "text/html": [
       "<div>\n",
       "<style scoped>\n",
       "    .dataframe tbody tr th:only-of-type {\n",
       "        vertical-align: middle;\n",
       "    }\n",
       "\n",
       "    .dataframe tbody tr th {\n",
       "        vertical-align: top;\n",
       "    }\n",
       "\n",
       "    .dataframe thead th {\n",
       "        text-align: right;\n",
       "    }\n",
       "</style>\n",
       "<table border=\"1\" class=\"dataframe\">\n",
       "  <thead>\n",
       "    <tr style=\"text-align: right;\">\n",
       "      <th></th>\n",
       "      <th>movie_id</th>\n",
       "      <th>title</th>\n",
       "      <th>cast</th>\n",
       "      <th>crew</th>\n",
       "    </tr>\n",
       "  </thead>\n",
       "  <tbody>\n",
       "    <tr>\n",
       "      <th>0</th>\n",
       "      <td>19995</td>\n",
       "      <td>Avatar</td>\n",
       "      <td>[{\"cast_id\": 242, \"character\": \"Jake Sully\", \"...</td>\n",
       "      <td>[{\"credit_id\": \"52fe48009251416c750aca23\", \"de...</td>\n",
       "    </tr>\n",
       "  </tbody>\n",
       "</table>\n",
       "</div>"
      ],
      "text/plain": [
       "   movie_id   title                                               cast  \\\n",
       "0     19995  Avatar  [{\"cast_id\": 242, \"character\": \"Jake Sully\", \"...   \n",
       "\n",
       "                                                crew  \n",
       "0  [{\"credit_id\": \"52fe48009251416c750aca23\", \"de...  "
      ]
     },
     "execution_count": 3,
     "metadata": {},
     "output_type": "execute_result"
    }
   ],
   "source": [
    "tmdb_credits.head(1)"
   ]
  },
  {
   "cell_type": "code",
   "execution_count": 4,
   "id": "8ce27798-c869-4676-8ff6-9ecb8c2b76e5",
   "metadata": {},
   "outputs": [
    {
     "data": {
      "text/html": [
       "<div>\n",
       "<style scoped>\n",
       "    .dataframe tbody tr th:only-of-type {\n",
       "        vertical-align: middle;\n",
       "    }\n",
       "\n",
       "    .dataframe tbody tr th {\n",
       "        vertical-align: top;\n",
       "    }\n",
       "\n",
       "    .dataframe thead th {\n",
       "        text-align: right;\n",
       "    }\n",
       "</style>\n",
       "<table border=\"1\" class=\"dataframe\">\n",
       "  <thead>\n",
       "    <tr style=\"text-align: right;\">\n",
       "      <th></th>\n",
       "      <th>budget</th>\n",
       "      <th>genres</th>\n",
       "      <th>homepage</th>\n",
       "      <th>id</th>\n",
       "      <th>keywords</th>\n",
       "      <th>original_language</th>\n",
       "      <th>original_title</th>\n",
       "      <th>overview</th>\n",
       "      <th>popularity</th>\n",
       "      <th>production_companies</th>\n",
       "      <th>production_countries</th>\n",
       "      <th>release_date</th>\n",
       "      <th>revenue</th>\n",
       "      <th>runtime</th>\n",
       "      <th>spoken_languages</th>\n",
       "      <th>status</th>\n",
       "      <th>tagline</th>\n",
       "      <th>title</th>\n",
       "      <th>vote_average</th>\n",
       "      <th>vote_count</th>\n",
       "    </tr>\n",
       "  </thead>\n",
       "  <tbody>\n",
       "    <tr>\n",
       "      <th>0</th>\n",
       "      <td>237000000</td>\n",
       "      <td>[{\"id\": 28, \"name\": \"Action\"}, {\"id\": 12, \"nam...</td>\n",
       "      <td>http://www.avatarmovie.com/</td>\n",
       "      <td>19995</td>\n",
       "      <td>[{\"id\": 1463, \"name\": \"culture clash\"}, {\"id\":...</td>\n",
       "      <td>en</td>\n",
       "      <td>Avatar</td>\n",
       "      <td>In the 22nd century, a paraplegic Marine is di...</td>\n",
       "      <td>150.437577</td>\n",
       "      <td>[{\"name\": \"Ingenious Film Partners\", \"id\": 289...</td>\n",
       "      <td>[{\"iso_3166_1\": \"US\", \"name\": \"United States o...</td>\n",
       "      <td>2009-12-10</td>\n",
       "      <td>2787965087</td>\n",
       "      <td>162.0</td>\n",
       "      <td>[{\"iso_639_1\": \"en\", \"name\": \"English\"}, {\"iso...</td>\n",
       "      <td>Released</td>\n",
       "      <td>Enter the World of Pandora.</td>\n",
       "      <td>Avatar</td>\n",
       "      <td>7.2</td>\n",
       "      <td>11800</td>\n",
       "    </tr>\n",
       "  </tbody>\n",
       "</table>\n",
       "</div>"
      ],
      "text/plain": [
       "      budget                                             genres  \\\n",
       "0  237000000  [{\"id\": 28, \"name\": \"Action\"}, {\"id\": 12, \"nam...   \n",
       "\n",
       "                      homepage     id  \\\n",
       "0  http://www.avatarmovie.com/  19995   \n",
       "\n",
       "                                            keywords original_language  \\\n",
       "0  [{\"id\": 1463, \"name\": \"culture clash\"}, {\"id\":...                en   \n",
       "\n",
       "  original_title                                           overview  \\\n",
       "0         Avatar  In the 22nd century, a paraplegic Marine is di...   \n",
       "\n",
       "   popularity                               production_companies  \\\n",
       "0  150.437577  [{\"name\": \"Ingenious Film Partners\", \"id\": 289...   \n",
       "\n",
       "                                production_countries release_date     revenue  \\\n",
       "0  [{\"iso_3166_1\": \"US\", \"name\": \"United States o...   2009-12-10  2787965087   \n",
       "\n",
       "   runtime                                   spoken_languages    status  \\\n",
       "0    162.0  [{\"iso_639_1\": \"en\", \"name\": \"English\"}, {\"iso...  Released   \n",
       "\n",
       "                       tagline   title  vote_average  vote_count  \n",
       "0  Enter the World of Pandora.  Avatar           7.2       11800  "
      ]
     },
     "execution_count": 4,
     "metadata": {},
     "output_type": "execute_result"
    }
   ],
   "source": [
    "tmdb_movies.head(1)"
   ]
  },
  {
   "cell_type": "markdown",
   "id": "25241a74-b617-4a28-a1de-2bb5a08a5ae7",
   "metadata": {},
   "source": [
    "### let's merge two table tmdb_movies and tmdb_credits on a new table named tmdb"
   ]
  },
  {
   "cell_type": "code",
   "execution_count": 5,
   "id": "d8fdd862-9c4f-40f1-8b5d-0711b1ecd9ea",
   "metadata": {},
   "outputs": [],
   "source": [
    "tmdb = tmdb_movies.merge(tmdb_credits, on=\"title\")"
   ]
  },
  {
   "cell_type": "code",
   "execution_count": 6,
   "id": "21e5bbb6-bd49-4f0e-a416-0e1f81d20580",
   "metadata": {},
   "outputs": [
    {
     "data": {
      "text/html": [
       "<div>\n",
       "<style scoped>\n",
       "    .dataframe tbody tr th:only-of-type {\n",
       "        vertical-align: middle;\n",
       "    }\n",
       "\n",
       "    .dataframe tbody tr th {\n",
       "        vertical-align: top;\n",
       "    }\n",
       "\n",
       "    .dataframe thead th {\n",
       "        text-align: right;\n",
       "    }\n",
       "</style>\n",
       "<table border=\"1\" class=\"dataframe\">\n",
       "  <thead>\n",
       "    <tr style=\"text-align: right;\">\n",
       "      <th></th>\n",
       "      <th>budget</th>\n",
       "      <th>genres</th>\n",
       "      <th>homepage</th>\n",
       "      <th>id</th>\n",
       "      <th>keywords</th>\n",
       "      <th>original_language</th>\n",
       "      <th>original_title</th>\n",
       "      <th>overview</th>\n",
       "      <th>popularity</th>\n",
       "      <th>production_companies</th>\n",
       "      <th>...</th>\n",
       "      <th>runtime</th>\n",
       "      <th>spoken_languages</th>\n",
       "      <th>status</th>\n",
       "      <th>tagline</th>\n",
       "      <th>title</th>\n",
       "      <th>vote_average</th>\n",
       "      <th>vote_count</th>\n",
       "      <th>movie_id</th>\n",
       "      <th>cast</th>\n",
       "      <th>crew</th>\n",
       "    </tr>\n",
       "  </thead>\n",
       "  <tbody>\n",
       "    <tr>\n",
       "      <th>0</th>\n",
       "      <td>237000000</td>\n",
       "      <td>[{\"id\": 28, \"name\": \"Action\"}, {\"id\": 12, \"nam...</td>\n",
       "      <td>http://www.avatarmovie.com/</td>\n",
       "      <td>19995</td>\n",
       "      <td>[{\"id\": 1463, \"name\": \"culture clash\"}, {\"id\":...</td>\n",
       "      <td>en</td>\n",
       "      <td>Avatar</td>\n",
       "      <td>In the 22nd century, a paraplegic Marine is di...</td>\n",
       "      <td>150.437577</td>\n",
       "      <td>[{\"name\": \"Ingenious Film Partners\", \"id\": 289...</td>\n",
       "      <td>...</td>\n",
       "      <td>162.0</td>\n",
       "      <td>[{\"iso_639_1\": \"en\", \"name\": \"English\"}, {\"iso...</td>\n",
       "      <td>Released</td>\n",
       "      <td>Enter the World of Pandora.</td>\n",
       "      <td>Avatar</td>\n",
       "      <td>7.2</td>\n",
       "      <td>11800</td>\n",
       "      <td>19995</td>\n",
       "      <td>[{\"cast_id\": 242, \"character\": \"Jake Sully\", \"...</td>\n",
       "      <td>[{\"credit_id\": \"52fe48009251416c750aca23\", \"de...</td>\n",
       "    </tr>\n",
       "  </tbody>\n",
       "</table>\n",
       "<p>1 rows × 23 columns</p>\n",
       "</div>"
      ],
      "text/plain": [
       "      budget                                             genres  \\\n",
       "0  237000000  [{\"id\": 28, \"name\": \"Action\"}, {\"id\": 12, \"nam...   \n",
       "\n",
       "                      homepage     id  \\\n",
       "0  http://www.avatarmovie.com/  19995   \n",
       "\n",
       "                                            keywords original_language  \\\n",
       "0  [{\"id\": 1463, \"name\": \"culture clash\"}, {\"id\":...                en   \n",
       "\n",
       "  original_title                                           overview  \\\n",
       "0         Avatar  In the 22nd century, a paraplegic Marine is di...   \n",
       "\n",
       "   popularity                               production_companies  ... runtime  \\\n",
       "0  150.437577  [{\"name\": \"Ingenious Film Partners\", \"id\": 289...  ...   162.0   \n",
       "\n",
       "                                    spoken_languages    status  \\\n",
       "0  [{\"iso_639_1\": \"en\", \"name\": \"English\"}, {\"iso...  Released   \n",
       "\n",
       "                       tagline   title vote_average vote_count movie_id  \\\n",
       "0  Enter the World of Pandora.  Avatar          7.2      11800    19995   \n",
       "\n",
       "                                                cast  \\\n",
       "0  [{\"cast_id\": 242, \"character\": \"Jake Sully\", \"...   \n",
       "\n",
       "                                                crew  \n",
       "0  [{\"credit_id\": \"52fe48009251416c750aca23\", \"de...  \n",
       "\n",
       "[1 rows x 23 columns]"
      ]
     },
     "execution_count": 6,
     "metadata": {},
     "output_type": "execute_result"
    }
   ],
   "source": [
    "tmdb.head(1)"
   ]
  },
  {
   "cell_type": "code",
   "execution_count": null,
   "id": "dfc15230-ec56-41b0-8f38-b70302f337a3",
   "metadata": {},
   "outputs": [],
   "source": []
  },
  {
   "cell_type": "code",
   "execution_count": 7,
   "id": "54c46fe0-e9f1-4eae-9900-908d455964cc",
   "metadata": {},
   "outputs": [],
   "source": [
    "tmdb_columns = tmdb.columns"
   ]
  },
  {
   "cell_type": "code",
   "execution_count": 8,
   "id": "b4b0b660-b3f0-4000-aa31-1a2218fe833e",
   "metadata": {},
   "outputs": [
    {
     "name": "stdout",
     "output_type": "stream",
     "text": [
      "<class 'pandas.core.frame.DataFrame'>\n",
      "Int64Index: 4809 entries, 0 to 4808\n",
      "Data columns (total 23 columns):\n",
      " #   Column                Non-Null Count  Dtype  \n",
      "---  ------                --------------  -----  \n",
      " 0   budget                4809 non-null   int64  \n",
      " 1   genres                4809 non-null   object \n",
      " 2   homepage              1713 non-null   object \n",
      " 3   id                    4809 non-null   int64  \n",
      " 4   keywords              4809 non-null   object \n",
      " 5   original_language     4809 non-null   object \n",
      " 6   original_title        4809 non-null   object \n",
      " 7   overview              4806 non-null   object \n",
      " 8   popularity            4809 non-null   float64\n",
      " 9   production_companies  4809 non-null   object \n",
      " 10  production_countries  4809 non-null   object \n",
      " 11  release_date          4808 non-null   object \n",
      " 12  revenue               4809 non-null   int64  \n",
      " 13  runtime               4807 non-null   float64\n",
      " 14  spoken_languages      4809 non-null   object \n",
      " 15  status                4809 non-null   object \n",
      " 16  tagline               3965 non-null   object \n",
      " 17  title                 4809 non-null   object \n",
      " 18  vote_average          4809 non-null   float64\n",
      " 19  vote_count            4809 non-null   int64  \n",
      " 20  movie_id              4809 non-null   int64  \n",
      " 21  cast                  4809 non-null   object \n",
      " 22  crew                  4809 non-null   object \n",
      "dtypes: float64(3), int64(5), object(15)\n",
      "memory usage: 901.7+ KB\n"
     ]
    }
   ],
   "source": [
    "tmdb.info()"
   ]
  },
  {
   "cell_type": "markdown",
   "id": "14eafe7d-a7c8-4aee-9b83-89ed90bd8bc1",
   "metadata": {},
   "source": [
    "### for columns that types are not in exact right situation and they are in a ast node:"
   ]
  },
  {
   "cell_type": "code",
   "execution_count": 9,
   "id": "86fb073b-bb50-40b6-8195-f509c3ed89a0",
   "metadata": {},
   "outputs": [],
   "source": [
    "fucked_columns = [\"crew\", \"cast\", \"spoken_languages\", \"production_companies\", \"keywords\", \"genres\"]"
   ]
  },
  {
   "cell_type": "code",
   "execution_count": 10,
   "id": "9db5e3b0-d54e-47c1-abbc-3bbbcb40c33f",
   "metadata": {},
   "outputs": [
    {
     "name": "stdout",
     "output_type": "stream",
     "text": [
      "crew\n",
      "cast\n",
      "spoken_languages\n",
      "production_companies\n",
      "keywords\n",
      "genres\n"
     ]
    }
   ],
   "source": [
    "for column in fucked_columns:\n",
    "    print(column)"
   ]
  },
  {
   "cell_type": "code",
   "execution_count": null,
   "id": "44adf1f3-f8fe-49cf-b511-0d658ebfa652",
   "metadata": {},
   "outputs": [],
   "source": []
  },
  {
   "cell_type": "code",
   "execution_count": null,
   "id": "859afbf9-068f-4623-8987-f0a0ad9695fb",
   "metadata": {},
   "outputs": [],
   "source": []
  },
  {
   "cell_type": "code",
   "execution_count": null,
   "id": "f4a89665-6b14-4ca6-8b28-c0d7dd03106b",
   "metadata": {},
   "outputs": [],
   "source": []
  },
  {
   "cell_type": "code",
   "execution_count": 11,
   "id": "0f3c8141-a502-4d85-8158-f7603ca8d53b",
   "metadata": {},
   "outputs": [],
   "source": [
    "def column_tolist(column_name, dataframe_name, key_name):\n",
    "    \"\"\"column_name: srt, dataframe_name: pandas dataframe\"\"\"\n",
    "    \"\"\"get a column from pandas dataframe and covnert rows to a reachable datatype\"\"\"\n",
    "    \"\"\"This convertion will be done with ast library and literal_eval method\"\"\"\n",
    "\n",
    "\n",
    "    \n",
    "    def find_right_keydict(key_name, dataframe_name, column_name, index):\n",
    "        \"\"\"This will search in dictionaries and find values of given keys in certain dict \"\"\"\n",
    "        \"\"\"nested_list: this is a list which has nested dict inside\"\"\"\n",
    "        \n",
    "        qualified_keys = list()\n",
    "        target = dataframe_name[column_name][index]\n",
    "        target_list = ast.literal_eval(target)\n",
    "\n",
    "        for target_dict in target_list:\n",
    "            \n",
    "            if key_name in target_dict:\n",
    "                qualified_keys.append(target_dict[key_name])\n",
    "        \n",
    "        return qualified_keys\n",
    "                    \n",
    "\n",
    "\n",
    "    # result will be stored here. later on we can use this array to append a new column to a new dataframe\n",
    "    output_list = list() # this list will be countain of all our values.\n",
    "    for index in range(len(dataframe_name[column_name])):\n",
    "\n",
    "        name_list = find_right_keydict(key_name=key_name, dataframe_name=dataframe_name, column_name=column_name, index=index)\n",
    "        output_list.append(name_list)\n",
    "        \n",
    "    return output_list "
   ]
  },
  {
   "cell_type": "code",
   "execution_count": null,
   "id": "c9146e81-48f1-473c-b56d-c6c6fa3bc155",
   "metadata": {},
   "outputs": [],
   "source": []
  },
  {
   "cell_type": "markdown",
   "id": "afc5a50c-2e2e-4a7a-b052-e59460fb5f48",
   "metadata": {},
   "source": [
    "# Genre vs country"
   ]
  },
  {
   "cell_type": "markdown",
   "id": "2072082e-9cad-43b7-9688-286aa811a3dd",
   "metadata": {},
   "source": [
    "### now we will create a new dataframe based on country and Genres"
   ]
  },
  {
   "cell_type": "code",
   "execution_count": 12,
   "id": "b258c584-fe67-49f4-9b71-d829bd047342",
   "metadata": {},
   "outputs": [],
   "source": [
    "# first create list with proper and handy format\n",
    "\n",
    "country = column_tolist(column_name=\"production_countries\", dataframe_name=tmdb, key_name=\"name\")"
   ]
  },
  {
   "cell_type": "code",
   "execution_count": 13,
   "id": "3ac221c3-f685-4650-921d-b6874bf6e73e",
   "metadata": {},
   "outputs": [
    {
     "data": {
      "text/plain": [
       "[['United States of America', 'United Kingdom'],\n",
       " ['United States of America'],\n",
       " ['United Kingdom', 'United States of America']]"
      ]
     },
     "execution_count": 13,
     "metadata": {},
     "output_type": "execute_result"
    }
   ],
   "source": [
    "country[:3]"
   ]
  },
  {
   "cell_type": "code",
   "execution_count": 14,
   "id": "cbf222ac-94d6-48fb-b341-8de19dc6dbbc",
   "metadata": {},
   "outputs": [],
   "source": [
    "genres = column_tolist(column_name=\"genres\", dataframe_name=tmdb, key_name=\"name\")"
   ]
  },
  {
   "cell_type": "code",
   "execution_count": 15,
   "id": "5b2592d9-1f07-4ec3-b97b-21b5b2d1c05a",
   "metadata": {},
   "outputs": [
    {
     "data": {
      "text/plain": [
       "[['Action', 'Adventure', 'Fantasy', 'Science Fiction'],\n",
       " ['Adventure', 'Fantasy', 'Action'],\n",
       " ['Action', 'Adventure', 'Crime']]"
      ]
     },
     "execution_count": 15,
     "metadata": {},
     "output_type": "execute_result"
    }
   ],
   "source": [
    "genres[:3]"
   ]
  },
  {
   "cell_type": "code",
   "execution_count": null,
   "id": "018dc63a-438e-4b8a-b435-1717db4460f0",
   "metadata": {},
   "outputs": [],
   "source": []
  },
  {
   "cell_type": "markdown",
   "id": "f4f73657-4a4e-4cb3-b0bf-ebb57b4f6333",
   "metadata": {},
   "source": [
    "### now create a dataframe using genres and country"
   ]
  },
  {
   "cell_type": "code",
   "execution_count": 16,
   "id": "9606ad2a-baf8-4afb-ab48-cac05a00c577",
   "metadata": {},
   "outputs": [],
   "source": [
    "genres_countries = pd.DataFrame(list(zip(genres, country)),\n",
    "               columns =['genres', 'countries'])"
   ]
  },
  {
   "cell_type": "code",
   "execution_count": 17,
   "id": "03224f10-60d2-4223-9520-b73f13d632b6",
   "metadata": {},
   "outputs": [
    {
     "data": {
      "text/html": [
       "<div>\n",
       "<style scoped>\n",
       "    .dataframe tbody tr th:only-of-type {\n",
       "        vertical-align: middle;\n",
       "    }\n",
       "\n",
       "    .dataframe tbody tr th {\n",
       "        vertical-align: top;\n",
       "    }\n",
       "\n",
       "    .dataframe thead th {\n",
       "        text-align: right;\n",
       "    }\n",
       "</style>\n",
       "<table border=\"1\" class=\"dataframe\">\n",
       "  <thead>\n",
       "    <tr style=\"text-align: right;\">\n",
       "      <th></th>\n",
       "      <th>genres</th>\n",
       "      <th>countries</th>\n",
       "    </tr>\n",
       "  </thead>\n",
       "  <tbody>\n",
       "    <tr>\n",
       "      <th>0</th>\n",
       "      <td>[Action, Adventure, Fantasy, Science Fiction]</td>\n",
       "      <td>[United States of America, United Kingdom]</td>\n",
       "    </tr>\n",
       "    <tr>\n",
       "      <th>1</th>\n",
       "      <td>[Adventure, Fantasy, Action]</td>\n",
       "      <td>[United States of America]</td>\n",
       "    </tr>\n",
       "  </tbody>\n",
       "</table>\n",
       "</div>"
      ],
      "text/plain": [
       "                                          genres  \\\n",
       "0  [Action, Adventure, Fantasy, Science Fiction]   \n",
       "1                   [Adventure, Fantasy, Action]   \n",
       "\n",
       "                                    countries  \n",
       "0  [United States of America, United Kingdom]  \n",
       "1                  [United States of America]  "
      ]
     },
     "execution_count": 17,
     "metadata": {},
     "output_type": "execute_result"
    }
   ],
   "source": [
    "genres_countries.head(2)"
   ]
  },
  {
   "cell_type": "markdown",
   "id": "b26b2029-8276-4b11-a734-c1d217b487a2",
   "metadata": {},
   "source": [
    "### now we have a dataframe on genres and countries\n",
    "### but we want to find countries of each genre"
   ]
  },
  {
   "cell_type": "code",
   "execution_count": 18,
   "id": "88eb09fe-f692-41e0-9363-504664164a35",
   "metadata": {},
   "outputs": [],
   "source": [
    "# lets find unique genres\n",
    "unique_genres = []\n",
    "\n",
    "for row_genres in genres_countries[\"genres\"]:\n",
    "    \n",
    "    for genre in row_genres:\n",
    "        if genre not in unique_genres:\n",
    "            unique_genres.append(genre)"
   ]
  },
  {
   "cell_type": "code",
   "execution_count": 19,
   "id": "c25b6e1f-3d8c-47bc-907f-d8527d5c608c",
   "metadata": {},
   "outputs": [
    {
     "data": {
      "text/plain": [
       "['Action', 'Adventure']"
      ]
     },
     "execution_count": 19,
     "metadata": {},
     "output_type": "execute_result"
    }
   ],
   "source": [
    "unique_genres[:2]"
   ]
  },
  {
   "cell_type": "code",
   "execution_count": 20,
   "id": "7cd6b971-4710-42ef-bd22-fb9f85f8e887",
   "metadata": {},
   "outputs": [],
   "source": [
    "# lets find unique countries\n",
    "unique_countries = []\n",
    "\n",
    "for row_counties in genres_countries[\"countries\"]:\n",
    "    \n",
    "    for country in row_counties:\n",
    "        if country not in unique_countries:\n",
    "            unique_countries.append(country)"
   ]
  },
  {
   "cell_type": "code",
   "execution_count": 21,
   "id": "0e572b9a-0081-4ba2-b38e-88bfed32e75a",
   "metadata": {},
   "outputs": [
    {
     "data": {
      "text/plain": [
       "['United States of America',\n",
       " 'United Kingdom',\n",
       " 'Jamaica',\n",
       " 'Bahamas',\n",
       " 'Dominica']"
      ]
     },
     "execution_count": 21,
     "metadata": {},
     "output_type": "execute_result"
    }
   ],
   "source": [
    "# list of unique countries\n",
    "unique_countries[:5]"
   ]
  },
  {
   "cell_type": "markdown",
   "id": "fecff331-33e7-4e0c-af55-9e88c70748ef",
   "metadata": {},
   "source": [
    "### now we will create a dictionary in this format:\n",
    "\n",
    "### {genre: {sample_country: times of repeating country in this genre}}"
   ]
  },
  {
   "cell_type": "code",
   "execution_count": 22,
   "id": "72c89355-3dc8-4e55-8ecc-42b4a8625822",
   "metadata": {},
   "outputs": [],
   "source": [
    "# set_country = {}\n",
    "# for country in unique_countries:\n",
    "#     set_country[country] = 0"
   ]
  },
  {
   "cell_type": "code",
   "execution_count": 23,
   "id": "93f71be1-731c-4b85-9829-995d03de67fe",
   "metadata": {},
   "outputs": [],
   "source": [
    "main_dict = {}\n",
    "\n",
    "for genre in unique_genres:\n",
    "    main_dict[genre] = {'United States of America': 0,'United Kingdom': 0,'Jamaica': 0,\n",
    "                          'Bahamas': 0,'Dominica': 0,'Czech Republic': 0,'Poland': 0,'Slovenia': 0,'New Zealand': 0,\n",
    "                          'Germany': 0,'China': 0,'Canada': 0,'Italy': 0,'Japan': 0,'Malta': 0,'Australia': 0,\n",
    "                          'France': 0,'Belgium': 0,'India': 0,'Netherlands': 0,'Spain': 0,'United Arab Emirates': 0,\n",
    "                          'Hong Kong': 0,'Taiwan': 0,'Ireland': 0,'Morocco': 0,'Hungary': 0,'Singapore': 0,'Norway': 0,\n",
    "                          'Sweden': 0,'South Africa': 0,'Russia': 0,'Romania': 0,'Mexico': 0,'Monaco': 0,\n",
    "                          'Switzerland': 0,'Pakistan': 0,'Malaysia': 0,'Finland': 0,'Iceland': 0, 'Denmark': 0,\n",
    "                          'Tunisia': 0,'Philippines': 0,'Bulgaria': 0,'South Korea': 0,'Brazil': 0,\n",
    "                          'Peru': 0,'Luxembourg': 0,'Bosnia and Herzegovina': 0,'Kazakhstan': 0,'Portugal': 0,\n",
    "                          'Aruba': 0,'Libyan Arab Jamahiriya': 0,'Serbia': 0,'Ukraine': 0,'Chile': 0,'Argentina': 0,'Panama': 0,\n",
    "                          'Austria': 0,'Greece': 0,'Lithuania': 0,'Cambodia': 0,'Thailand': 0,'Slovakia': 0,\n",
    "                          'Israel': 0,'Fiji': 0,'Serbia and Montenegro': 0,'Turkey': 0,\n",
    "                          'Nigeria': 0,'Cyprus': 0,'Jordan': 0,'Bolivia': 0,'Ecuador': 0,'Colombia': 0,'Egypt': 0,'Bhutan': 0,\n",
    "                          'Lebanon': 0,'Kyrgyz Republic': 0,'Algeria': 0,'Indonesia': 0,'Guyana': 0,'Iran': 0,'Guadaloupe': 0,\n",
    "                          'Afghanistan': 0,'Angola': 0, 'Dominican Republic': 0,'Cameroon': 0,'Kenya': 0}"
   ]
  },
  {
   "cell_type": "code",
   "execution_count": null,
   "id": "ba755b55-37a3-428d-a80f-00c1100f96fb",
   "metadata": {},
   "outputs": [],
   "source": []
  },
  {
   "cell_type": "markdown",
   "id": "16c2d6a6-cf38-49a9-817f-8eaf35f48f21",
   "metadata": {},
   "source": [
    "### now we will update our dictionary according to our genres_countries dataframe"
   ]
  },
  {
   "cell_type": "code",
   "execution_count": 24,
   "id": "a361453c-ad9c-43d7-a612-641f4e19632d",
   "metadata": {},
   "outputs": [],
   "source": [
    "def update_genre_dict(given_genre):\n",
    "    \"\"\"This will updata main_dict while a movie is repeat in a sepicific country and certain genre\"\"\"\n",
    "    for index in range(len(genres_countries[\"genres\"])):\n",
    "        \n",
    "        if given_genre in genres_countries[\"genres\"][index]:\n",
    "            \n",
    "            for country in genres_countries[\"countries\"][index]:\n",
    "                main_dict[given_genre][country] = main_dict[given_genre][country] + 1\n"
   ]
  },
  {
   "cell_type": "code",
   "execution_count": 25,
   "id": "87bb698b-03e1-4cc4-8ad4-26d5be6015e1",
   "metadata": {},
   "outputs": [],
   "source": [
    "for genre in unique_genres:\n",
    "    update_genre_dict(genre) # this loop will updata all values of main_dict "
   ]
  },
  {
   "cell_type": "code",
   "execution_count": 26,
   "id": "a26739e2-84c8-4a28-881e-f193fec80e50",
   "metadata": {},
   "outputs": [],
   "source": [
    "genres_vs_countries = pd.DataFrame.from_dict(main_dict) # orient=\"index\""
   ]
  },
  {
   "cell_type": "code",
   "execution_count": 27,
   "id": "fa420696-c468-49af-892b-6259b43d3494",
   "metadata": {},
   "outputs": [
    {
     "data": {
      "text/html": [
       "<div>\n",
       "<style scoped>\n",
       "    .dataframe tbody tr th:only-of-type {\n",
       "        vertical-align: middle;\n",
       "    }\n",
       "\n",
       "    .dataframe tbody tr th {\n",
       "        vertical-align: top;\n",
       "    }\n",
       "\n",
       "    .dataframe thead th {\n",
       "        text-align: right;\n",
       "    }\n",
       "</style>\n",
       "<table border=\"1\" class=\"dataframe\">\n",
       "  <thead>\n",
       "    <tr style=\"text-align: right;\">\n",
       "      <th></th>\n",
       "      <th>Action</th>\n",
       "      <th>Adventure</th>\n",
       "      <th>Fantasy</th>\n",
       "      <th>Science Fiction</th>\n",
       "      <th>Crime</th>\n",
       "      <th>Drama</th>\n",
       "      <th>Thriller</th>\n",
       "      <th>Animation</th>\n",
       "      <th>Family</th>\n",
       "      <th>Western</th>\n",
       "      <th>Comedy</th>\n",
       "      <th>Romance</th>\n",
       "      <th>Horror</th>\n",
       "      <th>Mystery</th>\n",
       "      <th>History</th>\n",
       "      <th>War</th>\n",
       "      <th>Music</th>\n",
       "      <th>Documentary</th>\n",
       "      <th>Foreign</th>\n",
       "      <th>TV Movie</th>\n",
       "    </tr>\n",
       "  </thead>\n",
       "  <tbody>\n",
       "    <tr>\n",
       "      <th>United States of America</th>\n",
       "      <td>993</td>\n",
       "      <td>689</td>\n",
       "      <td>370</td>\n",
       "      <td>462</td>\n",
       "      <td>590</td>\n",
       "      <td>1802</td>\n",
       "      <td>1088</td>\n",
       "      <td>193</td>\n",
       "      <td>448</td>\n",
       "      <td>70</td>\n",
       "      <td>1491</td>\n",
       "      <td>741</td>\n",
       "      <td>432</td>\n",
       "      <td>296</td>\n",
       "      <td>129</td>\n",
       "      <td>106</td>\n",
       "      <td>166</td>\n",
       "      <td>74</td>\n",
       "      <td>2</td>\n",
       "      <td>7</td>\n",
       "    </tr>\n",
       "  </tbody>\n",
       "</table>\n",
       "</div>"
      ],
      "text/plain": [
       "                          Action  Adventure  Fantasy  Science Fiction  Crime  \\\n",
       "United States of America     993        689      370              462    590   \n",
       "\n",
       "                          Drama  Thriller  Animation  Family  Western  Comedy  \\\n",
       "United States of America   1802      1088        193     448       70    1491   \n",
       "\n",
       "                          Romance  Horror  Mystery  History  War  Music  \\\n",
       "United States of America      741     432      296      129  106    166   \n",
       "\n",
       "                          Documentary  Foreign  TV Movie  \n",
       "United States of America           74        2         7  "
      ]
     },
     "execution_count": 27,
     "metadata": {},
     "output_type": "execute_result"
    }
   ],
   "source": [
    "genres_vs_countries.head(1)"
   ]
  },
  {
   "cell_type": "code",
   "execution_count": null,
   "id": "d8447338-be7f-4f8e-9312-d6fe7a1cf051",
   "metadata": {},
   "outputs": [],
   "source": []
  },
  {
   "cell_type": "code",
   "execution_count": 28,
   "id": "84125da6-aaf5-43b8-8507-e7d82ff686b5",
   "metadata": {},
   "outputs": [],
   "source": [
    "shot_data = genres_vs_countries.loc[(genres_vs_countries.sum(axis=1) < 30) | (genres_vs_countries.sum(axis=1) > 5000) ]\n",
    "shot_data_row_lable = shot_data.index"
   ]
  },
  {
   "cell_type": "code",
   "execution_count": 29,
   "id": "b74ce6f0-fa8d-4f77-a09f-5099b4214e21",
   "metadata": {},
   "outputs": [],
   "source": [
    "valid_countries = genres_vs_countries.drop(genres_vs_countries[genres_vs_countries.index.isin(shot_data_row_lable)].index)"
   ]
  },
  {
   "cell_type": "code",
   "execution_count": 30,
   "id": "1259754e-6401-40a3-912f-c731e83e8532",
   "metadata": {},
   "outputs": [
    {
     "data": {
      "text/html": [
       "<div>\n",
       "<style scoped>\n",
       "    .dataframe tbody tr th:only-of-type {\n",
       "        vertical-align: middle;\n",
       "    }\n",
       "\n",
       "    .dataframe tbody tr th {\n",
       "        vertical-align: top;\n",
       "    }\n",
       "\n",
       "    .dataframe thead th {\n",
       "        text-align: right;\n",
       "    }\n",
       "</style>\n",
       "<table border=\"1\" class=\"dataframe\">\n",
       "  <thead>\n",
       "    <tr style=\"text-align: right;\">\n",
       "      <th></th>\n",
       "      <th>Action</th>\n",
       "      <th>Adventure</th>\n",
       "      <th>Fantasy</th>\n",
       "      <th>Science Fiction</th>\n",
       "      <th>Crime</th>\n",
       "      <th>Drama</th>\n",
       "      <th>Thriller</th>\n",
       "      <th>Animation</th>\n",
       "      <th>Family</th>\n",
       "      <th>Western</th>\n",
       "      <th>Comedy</th>\n",
       "      <th>Romance</th>\n",
       "      <th>Horror</th>\n",
       "      <th>Mystery</th>\n",
       "      <th>History</th>\n",
       "      <th>War</th>\n",
       "      <th>Music</th>\n",
       "      <th>Documentary</th>\n",
       "      <th>Foreign</th>\n",
       "      <th>TV Movie</th>\n",
       "    </tr>\n",
       "  </thead>\n",
       "  <tbody>\n",
       "    <tr>\n",
       "      <th>United Kingdom</th>\n",
       "      <td>178</td>\n",
       "      <td>147</td>\n",
       "      <td>67</td>\n",
       "      <td>75</td>\n",
       "      <td>109</td>\n",
       "      <td>344</td>\n",
       "      <td>206</td>\n",
       "      <td>16</td>\n",
       "      <td>56</td>\n",
       "      <td>8</td>\n",
       "      <td>164</td>\n",
       "      <td>126</td>\n",
       "      <td>50</td>\n",
       "      <td>46</td>\n",
       "      <td>47</td>\n",
       "      <td>35</td>\n",
       "      <td>26</td>\n",
       "      <td>14</td>\n",
       "      <td>7</td>\n",
       "      <td>1</td>\n",
       "    </tr>\n",
       "    <tr>\n",
       "      <th>Czech Republic</th>\n",
       "      <td>11</td>\n",
       "      <td>9</td>\n",
       "      <td>7</td>\n",
       "      <td>5</td>\n",
       "      <td>5</td>\n",
       "      <td>9</td>\n",
       "      <td>14</td>\n",
       "      <td>1</td>\n",
       "      <td>3</td>\n",
       "      <td>1</td>\n",
       "      <td>4</td>\n",
       "      <td>2</td>\n",
       "      <td>3</td>\n",
       "      <td>3</td>\n",
       "      <td>2</td>\n",
       "      <td>1</td>\n",
       "      <td>0</td>\n",
       "      <td>0</td>\n",
       "      <td>0</td>\n",
       "      <td>0</td>\n",
       "    </tr>\n",
       "    <tr>\n",
       "      <th>New Zealand</th>\n",
       "      <td>10</td>\n",
       "      <td>13</td>\n",
       "      <td>10</td>\n",
       "      <td>1</td>\n",
       "      <td>0</td>\n",
       "      <td>13</td>\n",
       "      <td>9</td>\n",
       "      <td>2</td>\n",
       "      <td>2</td>\n",
       "      <td>2</td>\n",
       "      <td>2</td>\n",
       "      <td>3</td>\n",
       "      <td>3</td>\n",
       "      <td>2</td>\n",
       "      <td>1</td>\n",
       "      <td>1</td>\n",
       "      <td>0</td>\n",
       "      <td>1</td>\n",
       "      <td>0</td>\n",
       "      <td>0</td>\n",
       "    </tr>\n",
       "    <tr>\n",
       "      <th>Germany</th>\n",
       "      <td>101</td>\n",
       "      <td>52</td>\n",
       "      <td>32</td>\n",
       "      <td>34</td>\n",
       "      <td>62</td>\n",
       "      <td>172</td>\n",
       "      <td>118</td>\n",
       "      <td>10</td>\n",
       "      <td>22</td>\n",
       "      <td>3</td>\n",
       "      <td>92</td>\n",
       "      <td>53</td>\n",
       "      <td>35</td>\n",
       "      <td>33</td>\n",
       "      <td>25</td>\n",
       "      <td>22</td>\n",
       "      <td>7</td>\n",
       "      <td>3</td>\n",
       "      <td>0</td>\n",
       "      <td>0</td>\n",
       "    </tr>\n",
       "    <tr>\n",
       "      <th>China</th>\n",
       "      <td>37</td>\n",
       "      <td>19</td>\n",
       "      <td>11</td>\n",
       "      <td>5</td>\n",
       "      <td>8</td>\n",
       "      <td>31</td>\n",
       "      <td>15</td>\n",
       "      <td>2</td>\n",
       "      <td>4</td>\n",
       "      <td>0</td>\n",
       "      <td>10</td>\n",
       "      <td>10</td>\n",
       "      <td>1</td>\n",
       "      <td>4</td>\n",
       "      <td>14</td>\n",
       "      <td>5</td>\n",
       "      <td>0</td>\n",
       "      <td>0</td>\n",
       "      <td>1</td>\n",
       "      <td>0</td>\n",
       "    </tr>\n",
       "    <tr>\n",
       "      <th>Canada</th>\n",
       "      <td>71</td>\n",
       "      <td>39</td>\n",
       "      <td>19</td>\n",
       "      <td>47</td>\n",
       "      <td>39</td>\n",
       "      <td>118</td>\n",
       "      <td>89</td>\n",
       "      <td>6</td>\n",
       "      <td>18</td>\n",
       "      <td>7</td>\n",
       "      <td>69</td>\n",
       "      <td>30</td>\n",
       "      <td>62</td>\n",
       "      <td>36</td>\n",
       "      <td>10</td>\n",
       "      <td>6</td>\n",
       "      <td>5</td>\n",
       "      <td>2</td>\n",
       "      <td>4</td>\n",
       "      <td>0</td>\n",
       "    </tr>\n",
       "    <tr>\n",
       "      <th>Italy</th>\n",
       "      <td>11</td>\n",
       "      <td>9</td>\n",
       "      <td>6</td>\n",
       "      <td>2</td>\n",
       "      <td>14</td>\n",
       "      <td>49</td>\n",
       "      <td>19</td>\n",
       "      <td>0</td>\n",
       "      <td>2</td>\n",
       "      <td>3</td>\n",
       "      <td>13</td>\n",
       "      <td>18</td>\n",
       "      <td>6</td>\n",
       "      <td>6</td>\n",
       "      <td>7</td>\n",
       "      <td>8</td>\n",
       "      <td>4</td>\n",
       "      <td>1</td>\n",
       "      <td>2</td>\n",
       "      <td>0</td>\n",
       "    </tr>\n",
       "    <tr>\n",
       "      <th>Japan</th>\n",
       "      <td>21</td>\n",
       "      <td>14</td>\n",
       "      <td>10</td>\n",
       "      <td>15</td>\n",
       "      <td>5</td>\n",
       "      <td>27</td>\n",
       "      <td>16</td>\n",
       "      <td>11</td>\n",
       "      <td>6</td>\n",
       "      <td>1</td>\n",
       "      <td>6</td>\n",
       "      <td>4</td>\n",
       "      <td>10</td>\n",
       "      <td>6</td>\n",
       "      <td>6</td>\n",
       "      <td>4</td>\n",
       "      <td>1</td>\n",
       "      <td>0</td>\n",
       "      <td>0</td>\n",
       "      <td>0</td>\n",
       "    </tr>\n",
       "    <tr>\n",
       "      <th>Australia</th>\n",
       "      <td>38</td>\n",
       "      <td>27</td>\n",
       "      <td>12</td>\n",
       "      <td>21</td>\n",
       "      <td>11</td>\n",
       "      <td>41</td>\n",
       "      <td>35</td>\n",
       "      <td>6</td>\n",
       "      <td>16</td>\n",
       "      <td>3</td>\n",
       "      <td>30</td>\n",
       "      <td>15</td>\n",
       "      <td>18</td>\n",
       "      <td>10</td>\n",
       "      <td>4</td>\n",
       "      <td>3</td>\n",
       "      <td>1</td>\n",
       "      <td>1</td>\n",
       "      <td>2</td>\n",
       "      <td>0</td>\n",
       "    </tr>\n",
       "    <tr>\n",
       "      <th>France</th>\n",
       "      <td>77</td>\n",
       "      <td>40</td>\n",
       "      <td>23</td>\n",
       "      <td>27</td>\n",
       "      <td>63</td>\n",
       "      <td>174</td>\n",
       "      <td>97</td>\n",
       "      <td>15</td>\n",
       "      <td>21</td>\n",
       "      <td>5</td>\n",
       "      <td>71</td>\n",
       "      <td>61</td>\n",
       "      <td>28</td>\n",
       "      <td>28</td>\n",
       "      <td>21</td>\n",
       "      <td>18</td>\n",
       "      <td>8</td>\n",
       "      <td>8</td>\n",
       "      <td>1</td>\n",
       "      <td>0</td>\n",
       "    </tr>\n",
       "    <tr>\n",
       "      <th>Belgium</th>\n",
       "      <td>4</td>\n",
       "      <td>6</td>\n",
       "      <td>5</td>\n",
       "      <td>1</td>\n",
       "      <td>2</td>\n",
       "      <td>15</td>\n",
       "      <td>4</td>\n",
       "      <td>5</td>\n",
       "      <td>6</td>\n",
       "      <td>0</td>\n",
       "      <td>6</td>\n",
       "      <td>5</td>\n",
       "      <td>1</td>\n",
       "      <td>1</td>\n",
       "      <td>6</td>\n",
       "      <td>4</td>\n",
       "      <td>1</td>\n",
       "      <td>0</td>\n",
       "      <td>1</td>\n",
       "      <td>0</td>\n",
       "    </tr>\n",
       "    <tr>\n",
       "      <th>India</th>\n",
       "      <td>7</td>\n",
       "      <td>5</td>\n",
       "      <td>1</td>\n",
       "      <td>5</td>\n",
       "      <td>0</td>\n",
       "      <td>32</td>\n",
       "      <td>6</td>\n",
       "      <td>5</td>\n",
       "      <td>7</td>\n",
       "      <td>0</td>\n",
       "      <td>14</td>\n",
       "      <td>23</td>\n",
       "      <td>0</td>\n",
       "      <td>0</td>\n",
       "      <td>7</td>\n",
       "      <td>1</td>\n",
       "      <td>2</td>\n",
       "      <td>2</td>\n",
       "      <td>5</td>\n",
       "      <td>0</td>\n",
       "    </tr>\n",
       "    <tr>\n",
       "      <th>Netherlands</th>\n",
       "      <td>3</td>\n",
       "      <td>3</td>\n",
       "      <td>1</td>\n",
       "      <td>0</td>\n",
       "      <td>4</td>\n",
       "      <td>13</td>\n",
       "      <td>4</td>\n",
       "      <td>0</td>\n",
       "      <td>1</td>\n",
       "      <td>0</td>\n",
       "      <td>5</td>\n",
       "      <td>4</td>\n",
       "      <td>1</td>\n",
       "      <td>2</td>\n",
       "      <td>3</td>\n",
       "      <td>4</td>\n",
       "      <td>1</td>\n",
       "      <td>0</td>\n",
       "      <td>2</td>\n",
       "      <td>0</td>\n",
       "    </tr>\n",
       "    <tr>\n",
       "      <th>Spain</th>\n",
       "      <td>10</td>\n",
       "      <td>12</td>\n",
       "      <td>6</td>\n",
       "      <td>4</td>\n",
       "      <td>8</td>\n",
       "      <td>39</td>\n",
       "      <td>24</td>\n",
       "      <td>2</td>\n",
       "      <td>4</td>\n",
       "      <td>5</td>\n",
       "      <td>8</td>\n",
       "      <td>13</td>\n",
       "      <td>11</td>\n",
       "      <td>12</td>\n",
       "      <td>4</td>\n",
       "      <td>4</td>\n",
       "      <td>0</td>\n",
       "      <td>2</td>\n",
       "      <td>2</td>\n",
       "      <td>0</td>\n",
       "    </tr>\n",
       "    <tr>\n",
       "      <th>Hong Kong</th>\n",
       "      <td>35</td>\n",
       "      <td>14</td>\n",
       "      <td>8</td>\n",
       "      <td>8</td>\n",
       "      <td>10</td>\n",
       "      <td>22</td>\n",
       "      <td>13</td>\n",
       "      <td>1</td>\n",
       "      <td>4</td>\n",
       "      <td>3</td>\n",
       "      <td>15</td>\n",
       "      <td>5</td>\n",
       "      <td>0</td>\n",
       "      <td>0</td>\n",
       "      <td>10</td>\n",
       "      <td>3</td>\n",
       "      <td>0</td>\n",
       "      <td>0</td>\n",
       "      <td>0</td>\n",
       "      <td>0</td>\n",
       "    </tr>\n",
       "    <tr>\n",
       "      <th>Ireland</th>\n",
       "      <td>7</td>\n",
       "      <td>4</td>\n",
       "      <td>3</td>\n",
       "      <td>2</td>\n",
       "      <td>7</td>\n",
       "      <td>22</td>\n",
       "      <td>14</td>\n",
       "      <td>2</td>\n",
       "      <td>4</td>\n",
       "      <td>0</td>\n",
       "      <td>10</td>\n",
       "      <td>9</td>\n",
       "      <td>4</td>\n",
       "      <td>0</td>\n",
       "      <td>2</td>\n",
       "      <td>2</td>\n",
       "      <td>1</td>\n",
       "      <td>0</td>\n",
       "      <td>0</td>\n",
       "      <td>0</td>\n",
       "    </tr>\n",
       "    <tr>\n",
       "      <th>Hungary</th>\n",
       "      <td>4</td>\n",
       "      <td>2</td>\n",
       "      <td>4</td>\n",
       "      <td>1</td>\n",
       "      <td>1</td>\n",
       "      <td>6</td>\n",
       "      <td>4</td>\n",
       "      <td>0</td>\n",
       "      <td>2</td>\n",
       "      <td>0</td>\n",
       "      <td>4</td>\n",
       "      <td>2</td>\n",
       "      <td>2</td>\n",
       "      <td>1</td>\n",
       "      <td>3</td>\n",
       "      <td>1</td>\n",
       "      <td>1</td>\n",
       "      <td>0</td>\n",
       "      <td>0</td>\n",
       "      <td>0</td>\n",
       "    </tr>\n",
       "    <tr>\n",
       "      <th>Norway</th>\n",
       "      <td>0</td>\n",
       "      <td>1</td>\n",
       "      <td>1</td>\n",
       "      <td>0</td>\n",
       "      <td>4</td>\n",
       "      <td>9</td>\n",
       "      <td>2</td>\n",
       "      <td>0</td>\n",
       "      <td>1</td>\n",
       "      <td>0</td>\n",
       "      <td>4</td>\n",
       "      <td>2</td>\n",
       "      <td>2</td>\n",
       "      <td>1</td>\n",
       "      <td>2</td>\n",
       "      <td>2</td>\n",
       "      <td>2</td>\n",
       "      <td>1</td>\n",
       "      <td>1</td>\n",
       "      <td>0</td>\n",
       "    </tr>\n",
       "    <tr>\n",
       "      <th>Sweden</th>\n",
       "      <td>2</td>\n",
       "      <td>2</td>\n",
       "      <td>0</td>\n",
       "      <td>1</td>\n",
       "      <td>8</td>\n",
       "      <td>16</td>\n",
       "      <td>6</td>\n",
       "      <td>0</td>\n",
       "      <td>1</td>\n",
       "      <td>0</td>\n",
       "      <td>2</td>\n",
       "      <td>2</td>\n",
       "      <td>2</td>\n",
       "      <td>3</td>\n",
       "      <td>1</td>\n",
       "      <td>1</td>\n",
       "      <td>2</td>\n",
       "      <td>0</td>\n",
       "      <td>1</td>\n",
       "      <td>0</td>\n",
       "    </tr>\n",
       "    <tr>\n",
       "      <th>South Africa</th>\n",
       "      <td>5</td>\n",
       "      <td>4</td>\n",
       "      <td>0</td>\n",
       "      <td>4</td>\n",
       "      <td>4</td>\n",
       "      <td>12</td>\n",
       "      <td>4</td>\n",
       "      <td>2</td>\n",
       "      <td>3</td>\n",
       "      <td>0</td>\n",
       "      <td>2</td>\n",
       "      <td>3</td>\n",
       "      <td>0</td>\n",
       "      <td>0</td>\n",
       "      <td>3</td>\n",
       "      <td>1</td>\n",
       "      <td>0</td>\n",
       "      <td>0</td>\n",
       "      <td>2</td>\n",
       "      <td>0</td>\n",
       "    </tr>\n",
       "    <tr>\n",
       "      <th>Russia</th>\n",
       "      <td>7</td>\n",
       "      <td>3</td>\n",
       "      <td>5</td>\n",
       "      <td>4</td>\n",
       "      <td>1</td>\n",
       "      <td>9</td>\n",
       "      <td>9</td>\n",
       "      <td>3</td>\n",
       "      <td>2</td>\n",
       "      <td>0</td>\n",
       "      <td>1</td>\n",
       "      <td>3</td>\n",
       "      <td>1</td>\n",
       "      <td>3</td>\n",
       "      <td>3</td>\n",
       "      <td>0</td>\n",
       "      <td>0</td>\n",
       "      <td>0</td>\n",
       "      <td>0</td>\n",
       "      <td>0</td>\n",
       "    </tr>\n",
       "    <tr>\n",
       "      <th>Mexico</th>\n",
       "      <td>6</td>\n",
       "      <td>3</td>\n",
       "      <td>3</td>\n",
       "      <td>2</td>\n",
       "      <td>5</td>\n",
       "      <td>21</td>\n",
       "      <td>5</td>\n",
       "      <td>3</td>\n",
       "      <td>2</td>\n",
       "      <td>2</td>\n",
       "      <td>8</td>\n",
       "      <td>6</td>\n",
       "      <td>2</td>\n",
       "      <td>0</td>\n",
       "      <td>3</td>\n",
       "      <td>3</td>\n",
       "      <td>0</td>\n",
       "      <td>0</td>\n",
       "      <td>1</td>\n",
       "      <td>0</td>\n",
       "    </tr>\n",
       "    <tr>\n",
       "      <th>Switzerland</th>\n",
       "      <td>1</td>\n",
       "      <td>0</td>\n",
       "      <td>0</td>\n",
       "      <td>3</td>\n",
       "      <td>3</td>\n",
       "      <td>8</td>\n",
       "      <td>7</td>\n",
       "      <td>0</td>\n",
       "      <td>1</td>\n",
       "      <td>0</td>\n",
       "      <td>3</td>\n",
       "      <td>5</td>\n",
       "      <td>2</td>\n",
       "      <td>1</td>\n",
       "      <td>2</td>\n",
       "      <td>1</td>\n",
       "      <td>0</td>\n",
       "      <td>3</td>\n",
       "      <td>0</td>\n",
       "      <td>0</td>\n",
       "    </tr>\n",
       "    <tr>\n",
       "      <th>Denmark</th>\n",
       "      <td>2</td>\n",
       "      <td>1</td>\n",
       "      <td>0</td>\n",
       "      <td>2</td>\n",
       "      <td>7</td>\n",
       "      <td>14</td>\n",
       "      <td>5</td>\n",
       "      <td>1</td>\n",
       "      <td>0</td>\n",
       "      <td>0</td>\n",
       "      <td>4</td>\n",
       "      <td>2</td>\n",
       "      <td>2</td>\n",
       "      <td>1</td>\n",
       "      <td>1</td>\n",
       "      <td>1</td>\n",
       "      <td>1</td>\n",
       "      <td>2</td>\n",
       "      <td>0</td>\n",
       "      <td>0</td>\n",
       "    </tr>\n",
       "    <tr>\n",
       "      <th>South Korea</th>\n",
       "      <td>12</td>\n",
       "      <td>7</td>\n",
       "      <td>4</td>\n",
       "      <td>5</td>\n",
       "      <td>0</td>\n",
       "      <td>13</td>\n",
       "      <td>6</td>\n",
       "      <td>3</td>\n",
       "      <td>2</td>\n",
       "      <td>2</td>\n",
       "      <td>2</td>\n",
       "      <td>1</td>\n",
       "      <td>4</td>\n",
       "      <td>2</td>\n",
       "      <td>5</td>\n",
       "      <td>3</td>\n",
       "      <td>0</td>\n",
       "      <td>0</td>\n",
       "      <td>0</td>\n",
       "      <td>0</td>\n",
       "    </tr>\n",
       "  </tbody>\n",
       "</table>\n",
       "</div>"
      ],
      "text/plain": [
       "                Action  Adventure  Fantasy  Science Fiction  Crime  Drama  \\\n",
       "United Kingdom     178        147       67               75    109    344   \n",
       "Czech Republic      11          9        7                5      5      9   \n",
       "New Zealand         10         13       10                1      0     13   \n",
       "Germany            101         52       32               34     62    172   \n",
       "China               37         19       11                5      8     31   \n",
       "Canada              71         39       19               47     39    118   \n",
       "Italy               11          9        6                2     14     49   \n",
       "Japan               21         14       10               15      5     27   \n",
       "Australia           38         27       12               21     11     41   \n",
       "France              77         40       23               27     63    174   \n",
       "Belgium              4          6        5                1      2     15   \n",
       "India                7          5        1                5      0     32   \n",
       "Netherlands          3          3        1                0      4     13   \n",
       "Spain               10         12        6                4      8     39   \n",
       "Hong Kong           35         14        8                8     10     22   \n",
       "Ireland              7          4        3                2      7     22   \n",
       "Hungary              4          2        4                1      1      6   \n",
       "Norway               0          1        1                0      4      9   \n",
       "Sweden               2          2        0                1      8     16   \n",
       "South Africa         5          4        0                4      4     12   \n",
       "Russia               7          3        5                4      1      9   \n",
       "Mexico               6          3        3                2      5     21   \n",
       "Switzerland          1          0        0                3      3      8   \n",
       "Denmark              2          1        0                2      7     14   \n",
       "South Korea         12          7        4                5      0     13   \n",
       "\n",
       "                Thriller  Animation  Family  Western  Comedy  Romance  Horror  \\\n",
       "United Kingdom       206         16      56        8     164      126      50   \n",
       "Czech Republic        14          1       3        1       4        2       3   \n",
       "New Zealand            9          2       2        2       2        3       3   \n",
       "Germany              118         10      22        3      92       53      35   \n",
       "China                 15          2       4        0      10       10       1   \n",
       "Canada                89          6      18        7      69       30      62   \n",
       "Italy                 19          0       2        3      13       18       6   \n",
       "Japan                 16         11       6        1       6        4      10   \n",
       "Australia             35          6      16        3      30       15      18   \n",
       "France                97         15      21        5      71       61      28   \n",
       "Belgium                4          5       6        0       6        5       1   \n",
       "India                  6          5       7        0      14       23       0   \n",
       "Netherlands            4          0       1        0       5        4       1   \n",
       "Spain                 24          2       4        5       8       13      11   \n",
       "Hong Kong             13          1       4        3      15        5       0   \n",
       "Ireland               14          2       4        0      10        9       4   \n",
       "Hungary                4          0       2        0       4        2       2   \n",
       "Norway                 2          0       1        0       4        2       2   \n",
       "Sweden                 6          0       1        0       2        2       2   \n",
       "South Africa           4          2       3        0       2        3       0   \n",
       "Russia                 9          3       2        0       1        3       1   \n",
       "Mexico                 5          3       2        2       8        6       2   \n",
       "Switzerland            7          0       1        0       3        5       2   \n",
       "Denmark                5          1       0        0       4        2       2   \n",
       "South Korea            6          3       2        2       2        1       4   \n",
       "\n",
       "                Mystery  History  War  Music  Documentary  Foreign  TV Movie  \n",
       "United Kingdom       46       47   35     26           14        7         1  \n",
       "Czech Republic        3        2    1      0            0        0         0  \n",
       "New Zealand           2        1    1      0            1        0         0  \n",
       "Germany              33       25   22      7            3        0         0  \n",
       "China                 4       14    5      0            0        1         0  \n",
       "Canada               36       10    6      5            2        4         0  \n",
       "Italy                 6        7    8      4            1        2         0  \n",
       "Japan                 6        6    4      1            0        0         0  \n",
       "Australia            10        4    3      1            1        2         0  \n",
       "France               28       21   18      8            8        1         0  \n",
       "Belgium               1        6    4      1            0        1         0  \n",
       "India                 0        7    1      2            2        5         0  \n",
       "Netherlands           2        3    4      1            0        2         0  \n",
       "Spain                12        4    4      0            2        2         0  \n",
       "Hong Kong             0       10    3      0            0        0         0  \n",
       "Ireland               0        2    2      1            0        0         0  \n",
       "Hungary               1        3    1      1            0        0         0  \n",
       "Norway                1        2    2      2            1        1         0  \n",
       "Sweden                3        1    1      2            0        1         0  \n",
       "South Africa          0        3    1      0            0        2         0  \n",
       "Russia                3        3    0      0            0        0         0  \n",
       "Mexico                0        3    3      0            0        1         0  \n",
       "Switzerland           1        2    1      0            3        0         0  \n",
       "Denmark               1        1    1      1            2        0         0  \n",
       "South Korea           2        5    3      0            0        0         0  "
      ]
     },
     "execution_count": 30,
     "metadata": {},
     "output_type": "execute_result"
    }
   ],
   "source": [
    "valid_countries"
   ]
  },
  {
   "cell_type": "code",
   "execution_count": null,
   "id": "d6a79ed2-9398-4031-945d-66ed837c04dc",
   "metadata": {},
   "outputs": [],
   "source": []
  },
  {
   "cell_type": "code",
   "execution_count": 31,
   "id": "50077031-eb2d-4bc9-bc0b-42ae923e3039",
   "metadata": {},
   "outputs": [],
   "source": [
    "action_count = valid_countries[\"Action\"]\n",
    "action_country = valid_countries.index"
   ]
  },
  {
   "cell_type": "code",
   "execution_count": 32,
   "id": "4722ba0e-fedb-4388-b253-2e7320a93946",
   "metadata": {},
   "outputs": [],
   "source": [
    "# plt.figure(figsize=(20,10))\n",
    "\n",
    "#plt.bar(genres_vs_countries.index[1:], genres_vs_countries[\"Action\"][1:])\n",
    "# plt.bar(valid_countries.index, valid_countries[\"Drama\"], label=\"Drama\")\n",
    "# plt.bar(valid_countries.index, valid_countries[\"Fantasy\"], label=\"Fantasy\")\n",
    "# plt.bar(valid_countries.index, valid_countries[\"Action\"], label=\"Action\")\n",
    "# plt.bar(valid_countries.index, valid_countries[\"Adventure\"], label=\"Adventure\")\n",
    "# plt.bar(valid_countries.index, valid_countries[\"Comedy\"], label=\"Comedy\")\n",
    "# plt.bar(valid_countries.index, valid_countries[\"War\"], label=\"War\")\n",
    "# plt.bar(valid_countries.index, valid_countries[\"Romance\"], label=\"Romance\")\n",
    "\n",
    "\n",
    "# plt.legend()\n",
    "# plt.xticks(rotation=90)\n",
    "# plt.show()"
   ]
  },
  {
   "cell_type": "code",
   "execution_count": null,
   "id": "ea8548e3-0a65-47b0-91fc-e2ab4fbe407b",
   "metadata": {},
   "outputs": [],
   "source": []
  },
  {
   "cell_type": "code",
   "execution_count": 33,
   "id": "c1f3d29d-ca32-49ac-b5f2-5da3ea21c76f",
   "metadata": {},
   "outputs": [
    {
     "data": {
      "image/png": "[encoded data removed]",
      "text/plain": [
       "<Figure size 2000x1000 with 1 Axes>"
      ]
     },
     "metadata": {},
     "output_type": "display_data"
    }
   ],
   "source": [
    "plt.figure(figsize=(20,10))\n",
    "\n",
    "# plt.bar(valid_countries.index, valid_countries[\"Drama\"], label=\"Drama\")\n",
    "plt.bar(valid_countries.index, valid_countries[\"Fantasy\"], label=\"Fantasy\")\n",
    "# plt.bar(valid_countries.index, valid_countries[\"Action\"], label=\"Action\")\n",
    "# plt.bar(valid_countries.index, valid_countries[\"Adventure\"], label=\"Adventure\")\n",
    "# plt.bar(valid_countries.index, valid_countries[\"Comedy\"], label=\"Comedy\")\n",
    "# plt.bar(valid_countries.index, valid_countries[\"War\"], label=\"War\")\n",
    "# plt.bar(valid_countries.index, valid_countries[\"Romance\"], label=\"Romance\")\n",
    "\n",
    "\n",
    "plt.legend()\n",
    "plt.xticks(rotation=90)\n",
    "plt.show()"
   ]
  },
  {
   "cell_type": "code",
   "execution_count": null,
   "id": "bd6798df-a3ea-44ad-8c9b-ba1c9a62839e",
   "metadata": {},
   "outputs": [],
   "source": []
  },
  {
   "cell_type": "code",
   "execution_count": 34,
   "id": "345f2c7f-a68e-4f80-9dee-06f0d81c35b1",
   "metadata": {},
   "outputs": [
    {
     "data": {
      "text/plain": [
       "0       2009-12-10\n",
       "1       2007-05-19\n",
       "2       2015-10-26\n",
       "3       2012-07-16\n",
       "4       2012-03-07\n",
       "           ...    \n",
       "4804    1992-09-04\n",
       "4805    2011-12-26\n",
       "4806    2013-10-13\n",
       "4807    2012-05-03\n",
       "4808    2005-08-05\n",
       "Name: release_date, Length: 4809, dtype: object"
      ]
     },
     "execution_count": 34,
     "metadata": {},
     "output_type": "execute_result"
    }
   ],
   "source": [
    "tmdb[\"release_date\"]"
   ]
  },
  {
   "cell_type": "code",
   "execution_count": 35,
   "id": "9918fbdf-657f-4081-a40e-f9870cfb5b93",
   "metadata": {},
   "outputs": [
    {
     "data": {
      "text/plain": [
       "Index(['budget', 'genres', 'homepage', 'id', 'keywords', 'original_language',\n",
       "       'original_title', 'overview', 'popularity', 'production_companies',\n",
       "       'production_countries', 'release_date', 'revenue', 'runtime',\n",
       "       'spoken_languages', 'status', 'tagline', 'title', 'vote_average',\n",
       "       'vote_count', 'movie_id', 'cast', 'crew'],\n",
       "      dtype='object')"
      ]
     },
     "execution_count": 35,
     "metadata": {},
     "output_type": "execute_result"
    }
   ],
   "source": [
    "tmdb.columns"
   ]
  },
  {
   "cell_type": "markdown",
   "id": "ac44c15b-fbbf-4345-9939-3c9d7c7353ff",
   "metadata": {},
   "source": []
  },
  {
   "cell_type": "markdown",
   "id": "e62b7344-f180-47ee-876c-2f01a345d374",
   "metadata": {},
   "source": [
    "### relation between :\n",
    "\n",
    "\n",
    "#### genres and production company\n"
   ]
  },
  {
   "cell_type": "code",
   "execution_count": 36,
   "id": "c210a18f-0ed7-4245-8d38-50e00604cbcc",
   "metadata": {},
   "outputs": [
    {
     "data": {
      "text/html": [
       "<div>\n",
       "<style scoped>\n",
       "    .dataframe tbody tr th:only-of-type {\n",
       "        vertical-align: middle;\n",
       "    }\n",
       "\n",
       "    .dataframe tbody tr th {\n",
       "        vertical-align: top;\n",
       "    }\n",
       "\n",
       "    .dataframe thead th {\n",
       "        text-align: right;\n",
       "    }\n",
       "</style>\n",
       "<table border=\"1\" class=\"dataframe\">\n",
       "  <thead>\n",
       "    <tr style=\"text-align: right;\">\n",
       "      <th></th>\n",
       "      <th>budget</th>\n",
       "      <th>genres</th>\n",
       "      <th>homepage</th>\n",
       "      <th>id</th>\n",
       "      <th>keywords</th>\n",
       "      <th>original_language</th>\n",
       "      <th>original_title</th>\n",
       "      <th>overview</th>\n",
       "      <th>popularity</th>\n",
       "      <th>production_companies</th>\n",
       "      <th>...</th>\n",
       "      <th>runtime</th>\n",
       "      <th>spoken_languages</th>\n",
       "      <th>status</th>\n",
       "      <th>tagline</th>\n",
       "      <th>title</th>\n",
       "      <th>vote_average</th>\n",
       "      <th>vote_count</th>\n",
       "      <th>movie_id</th>\n",
       "      <th>cast</th>\n",
       "      <th>crew</th>\n",
       "    </tr>\n",
       "  </thead>\n",
       "  <tbody>\n",
       "    <tr>\n",
       "      <th>0</th>\n",
       "      <td>237000000</td>\n",
       "      <td>[{\"id\": 28, \"name\": \"Action\"}, {\"id\": 12, \"nam...</td>\n",
       "      <td>http://www.avatarmovie.com/</td>\n",
       "      <td>19995</td>\n",
       "      <td>[{\"id\": 1463, \"name\": \"culture clash\"}, {\"id\":...</td>\n",
       "      <td>en</td>\n",
       "      <td>Avatar</td>\n",
       "      <td>In the 22nd century, a paraplegic Marine is di...</td>\n",
       "      <td>150.437577</td>\n",
       "      <td>[{\"name\": \"Ingenious Film Partners\", \"id\": 289...</td>\n",
       "      <td>...</td>\n",
       "      <td>162.0</td>\n",
       "      <td>[{\"iso_639_1\": \"en\", \"name\": \"English\"}, {\"iso...</td>\n",
       "      <td>Released</td>\n",
       "      <td>Enter the World of Pandora.</td>\n",
       "      <td>Avatar</td>\n",
       "      <td>7.2</td>\n",
       "      <td>11800</td>\n",
       "      <td>19995</td>\n",
       "      <td>[{\"cast_id\": 242, \"character\": \"Jake Sully\", \"...</td>\n",
       "      <td>[{\"credit_id\": \"52fe48009251416c750aca23\", \"de...</td>\n",
       "    </tr>\n",
       "  </tbody>\n",
       "</table>\n",
       "<p>1 rows × 23 columns</p>\n",
       "</div>"
      ],
      "text/plain": [
       "      budget                                             genres  \\\n",
       "0  237000000  [{\"id\": 28, \"name\": \"Action\"}, {\"id\": 12, \"nam...   \n",
       "\n",
       "                      homepage     id  \\\n",
       "0  http://www.avatarmovie.com/  19995   \n",
       "\n",
       "                                            keywords original_language  \\\n",
       "0  [{\"id\": 1463, \"name\": \"culture clash\"}, {\"id\":...                en   \n",
       "\n",
       "  original_title                                           overview  \\\n",
       "0         Avatar  In the 22nd century, a paraplegic Marine is di...   \n",
       "\n",
       "   popularity                               production_companies  ... runtime  \\\n",
       "0  150.437577  [{\"name\": \"Ingenious Film Partners\", \"id\": 289...  ...   162.0   \n",
       "\n",
       "                                    spoken_languages    status  \\\n",
       "0  [{\"iso_639_1\": \"en\", \"name\": \"English\"}, {\"iso...  Released   \n",
       "\n",
       "                       tagline   title vote_average vote_count movie_id  \\\n",
       "0  Enter the World of Pandora.  Avatar          7.2      11800    19995   \n",
       "\n",
       "                                                cast  \\\n",
       "0  [{\"cast_id\": 242, \"character\": \"Jake Sully\", \"...   \n",
       "\n",
       "                                                crew  \n",
       "0  [{\"credit_id\": \"52fe48009251416c750aca23\", \"de...  \n",
       "\n",
       "[1 rows x 23 columns]"
      ]
     },
     "execution_count": 36,
     "metadata": {},
     "output_type": "execute_result"
    }
   ],
   "source": [
    "tmdb.head(1)"
   ]
  },
  {
   "cell_type": "code",
   "execution_count": 37,
   "id": "87532988-e27c-4ac8-afbd-dbbab9a991ff",
   "metadata": {},
   "outputs": [
    {
     "data": {
      "text/plain": [
       "Index(['budget', 'genres', 'homepage', 'id', 'keywords', 'original_language',\n",
       "       'original_title', 'overview', 'popularity', 'production_companies',\n",
       "       'production_countries', 'release_date', 'revenue', 'runtime',\n",
       "       'spoken_languages', 'status', 'tagline', 'title', 'vote_average',\n",
       "       'vote_count', 'movie_id', 'cast', 'crew'],\n",
       "      dtype='object')"
      ]
     },
     "execution_count": 37,
     "metadata": {},
     "output_type": "execute_result"
    }
   ],
   "source": [
    "tmdb.columns"
   ]
  },
  {
   "cell_type": "code",
   "execution_count": 38,
   "id": "053f1a4f-1770-4c33-a78b-0d25918a4081",
   "metadata": {},
   "outputs": [
    {
     "data": {
      "text/plain": [
       "'[{\"id\": 28, \"name\": \"Action\"}, {\"id\": 12, \"name\": \"Adventure\"}, {\"id\": 14, \"name\": \"Fantasy\"}, {\"id\": 878, \"name\": \"Science Fiction\"}]'"
      ]
     },
     "execution_count": 38,
     "metadata": {},
     "output_type": "execute_result"
    }
   ],
   "source": [
    "tmdb[\"genres\"][0]"
   ]
  },
  {
   "cell_type": "code",
   "execution_count": null,
   "id": "69c6c1ae-67cd-4be0-8b1d-364f3002972a",
   "metadata": {},
   "outputs": [],
   "source": []
  },
  {
   "cell_type": "code",
   "execution_count": 39,
   "id": "3071e7ed-888a-45d8-b327-4338be253e90",
   "metadata": {},
   "outputs": [
    {
     "data": {
      "text/plain": [
       "0    [{\"name\": \"Ingenious Film Partners\", \"id\": 289...\n",
       "1    [{\"name\": \"Walt Disney Pictures\", \"id\": 2}, {\"...\n",
       "Name: production_companies, dtype: object"
      ]
     },
     "execution_count": 39,
     "metadata": {},
     "output_type": "execute_result"
    }
   ],
   "source": [
    "# tmdb[\"production_companies\"] datatype is pandas object and we should use column_tolist()\n",
    "tmdb[\"production_companies\"][:2]"
   ]
  },
  {
   "cell_type": "code",
   "execution_count": 40,
   "id": "9f2a2bbb-e05f-44f8-bd0a-603157c6c480",
   "metadata": {},
   "outputs": [
    {
     "ename": "NameError",
     "evalue": "name 'insulated_country_name' is not defined",
     "output_type": "error",
     "traceback": [
      "\u001b[1;31m---------------------------------------------------------------------------\u001b[0m",
      "\u001b[1;31mNameError\u001b[0m                                 Traceback (most recent call last)",
      "Cell \u001b[1;32mIn[40], line 2\u001b[0m\n\u001b[0;32m      1\u001b[0m insulated_company_name \u001b[38;5;241m=\u001b[39m column_tolist(column_name\u001b[38;5;241m=\u001b[39m\u001b[38;5;124m\"\u001b[39m\u001b[38;5;124mproduction_companies\u001b[39m\u001b[38;5;124m\"\u001b[39m, dataframe_name\u001b[38;5;241m=\u001b[39mtmdb, key_name\u001b[38;5;241m=\u001b[39m\u001b[38;5;124m\"\u001b[39m\u001b[38;5;124mname\u001b[39m\u001b[38;5;124m\"\u001b[39m)\n\u001b[1;32m----> 2\u001b[0m \u001b[43minsulated_country_name\u001b[49m[:\u001b[38;5;241m2\u001b[39m]\n",
      "\u001b[1;31mNameError\u001b[0m: name 'insulated_country_name' is not defined"
     ]
    }
   ],
   "source": [
    "insulated_company_name = column_tolist(column_name=\"production_companies\", dataframe_name=tmdb, key_name=\"name\")\n",
    "insulated_country_name[:2]"
   ]
  },
  {
   "cell_type": "code",
   "execution_count": 41,
   "id": "f5a5db3c-fe3b-4911-a55e-2ae6adc0bb26",
   "metadata": {},
   "outputs": [
    {
     "data": {
      "text/plain": [
       "[['Action', 'Adventure', 'Fantasy', 'Science Fiction'],\n",
       " ['Adventure', 'Fantasy', 'Action']]"
      ]
     },
     "execution_count": 41,
     "metadata": {},
     "output_type": "execute_result"
    }
   ],
   "source": [
    "insulated_genres_name = column_tolist(column_name=\"genres\", dataframe_name=tmdb, key_name=\"name\")\n",
    "insulated_genres_name[:2]"
   ]
  },
  {
   "cell_type": "code",
   "execution_count": 42,
   "id": "60d6fb9f-3eed-4ca7-9bd7-9e717cd9a08f",
   "metadata": {},
   "outputs": [
    {
     "ename": "ValueError",
     "evalue": "malformed node or string on line 1: <ast.BinOp object at 0x000001CCDB0A69B0>",
     "output_type": "error",
     "traceback": [
      "\u001b[1;31m---------------------------------------------------------------------------\u001b[0m",
      "\u001b[1;31mValueError\u001b[0m                                Traceback (most recent call last)",
      "Cell \u001b[1;32mIn[42], line 1\u001b[0m\n\u001b[1;32m----> 1\u001b[0m insulated_releasdate \u001b[38;5;241m=\u001b[39m \u001b[43mcolumn_tolist\u001b[49m\u001b[43m(\u001b[49m\u001b[43mcolumn_name\u001b[49m\u001b[38;5;241;43m=\u001b[39;49m\u001b[38;5;124;43m\"\u001b[39;49m\u001b[38;5;124;43mrelease_date\u001b[39;49m\u001b[38;5;124;43m\"\u001b[39;49m\u001b[43m,\u001b[49m\u001b[43m \u001b[49m\u001b[43mdataframe_name\u001b[49m\u001b[38;5;241;43m=\u001b[39;49m\u001b[43mtmdb\u001b[49m\u001b[43m,\u001b[49m\u001b[43m \u001b[49m\u001b[43mkey_name\u001b[49m\u001b[38;5;241;43m=\u001b[39;49m\u001b[38;5;124;43m\"\u001b[39;49m\u001b[38;5;124;43mname\u001b[39;49m\u001b[38;5;124;43m\"\u001b[39;49m\u001b[43m)\u001b[49m\n",
      "Cell \u001b[1;32mIn[11], line 29\u001b[0m, in \u001b[0;36mcolumn_tolist\u001b[1;34m(column_name, dataframe_name, key_name)\u001b[0m\n\u001b[0;32m     26\u001b[0m output_list \u001b[38;5;241m=\u001b[39m \u001b[38;5;28mlist\u001b[39m() \u001b[38;5;66;03m# this list will be countain of all our values.\u001b[39;00m\n\u001b[0;32m     27\u001b[0m \u001b[38;5;28;01mfor\u001b[39;00m index \u001b[38;5;129;01min\u001b[39;00m \u001b[38;5;28mrange\u001b[39m(\u001b[38;5;28mlen\u001b[39m(dataframe_name[column_name])):\n\u001b[1;32m---> 29\u001b[0m     name_list \u001b[38;5;241m=\u001b[39m \u001b[43mfind_right_keydict\u001b[49m\u001b[43m(\u001b[49m\u001b[43mkey_name\u001b[49m\u001b[38;5;241;43m=\u001b[39;49m\u001b[43mkey_name\u001b[49m\u001b[43m,\u001b[49m\u001b[43m \u001b[49m\u001b[43mdataframe_name\u001b[49m\u001b[38;5;241;43m=\u001b[39;49m\u001b[43mdataframe_name\u001b[49m\u001b[43m,\u001b[49m\u001b[43m \u001b[49m\u001b[43mcolumn_name\u001b[49m\u001b[38;5;241;43m=\u001b[39;49m\u001b[43mcolumn_name\u001b[49m\u001b[43m,\u001b[49m\u001b[43m \u001b[49m\u001b[43mindex\u001b[49m\u001b[38;5;241;43m=\u001b[39;49m\u001b[43mindex\u001b[49m\u001b[43m)\u001b[49m\n\u001b[0;32m     30\u001b[0m     output_list\u001b[38;5;241m.\u001b[39mappend(name_list)\n\u001b[0;32m     32\u001b[0m \u001b[38;5;28;01mreturn\u001b[39;00m output_list\n",
      "Cell \u001b[1;32mIn[11], line 14\u001b[0m, in \u001b[0;36mcolumn_tolist.<locals>.find_right_keydict\u001b[1;34m(key_name, dataframe_name, column_name, index)\u001b[0m\n\u001b[0;32m     12\u001b[0m qualified_keys \u001b[38;5;241m=\u001b[39m \u001b[38;5;28mlist\u001b[39m()\n\u001b[0;32m     13\u001b[0m target \u001b[38;5;241m=\u001b[39m dataframe_name[column_name][index]\n\u001b[1;32m---> 14\u001b[0m target_list \u001b[38;5;241m=\u001b[39m \u001b[43mast\u001b[49m\u001b[38;5;241;43m.\u001b[39;49m\u001b[43mliteral_eval\u001b[49m\u001b[43m(\u001b[49m\u001b[43mtarget\u001b[49m\u001b[43m)\u001b[49m\n\u001b[0;32m     16\u001b[0m \u001b[38;5;28;01mfor\u001b[39;00m target_dict \u001b[38;5;129;01min\u001b[39;00m target_list:\n\u001b[0;32m     18\u001b[0m     \u001b[38;5;28;01mif\u001b[39;00m key_name \u001b[38;5;129;01min\u001b[39;00m target_dict:\n",
      "File \u001b[1;32m~\\AppData\\Local\\Programs\\Python\\Python311\\Lib\\ast.py:110\u001b[0m, in \u001b[0;36mliteral_eval\u001b[1;34m(node_or_string)\u001b[0m\n\u001b[0;32m    108\u001b[0m                 \u001b[38;5;28;01mreturn\u001b[39;00m left \u001b[38;5;241m-\u001b[39m right\n\u001b[0;32m    109\u001b[0m     \u001b[38;5;28;01mreturn\u001b[39;00m _convert_signed_num(node)\n\u001b[1;32m--> 110\u001b[0m \u001b[38;5;28;01mreturn\u001b[39;00m \u001b[43m_convert\u001b[49m\u001b[43m(\u001b[49m\u001b[43mnode_or_string\u001b[49m\u001b[43m)\u001b[49m\n",
      "File \u001b[1;32m~\\AppData\\Local\\Programs\\Python\\Python311\\Lib\\ast.py:102\u001b[0m, in \u001b[0;36mliteral_eval.<locals>._convert\u001b[1;34m(node)\u001b[0m\n\u001b[0;32m     99\u001b[0m     \u001b[38;5;28;01mreturn\u001b[39;00m \u001b[38;5;28mdict\u001b[39m(\u001b[38;5;28mzip\u001b[39m(\u001b[38;5;28mmap\u001b[39m(_convert, node\u001b[38;5;241m.\u001b[39mkeys),\n\u001b[0;32m    100\u001b[0m                     \u001b[38;5;28mmap\u001b[39m(_convert, node\u001b[38;5;241m.\u001b[39mvalues)))\n\u001b[0;32m    101\u001b[0m \u001b[38;5;28;01melif\u001b[39;00m \u001b[38;5;28misinstance\u001b[39m(node, BinOp) \u001b[38;5;129;01mand\u001b[39;00m \u001b[38;5;28misinstance\u001b[39m(node\u001b[38;5;241m.\u001b[39mop, (Add, Sub)):\n\u001b[1;32m--> 102\u001b[0m     left \u001b[38;5;241m=\u001b[39m \u001b[43m_convert_signed_num\u001b[49m\u001b[43m(\u001b[49m\u001b[43mnode\u001b[49m\u001b[38;5;241;43m.\u001b[39;49m\u001b[43mleft\u001b[49m\u001b[43m)\u001b[49m\n\u001b[0;32m    103\u001b[0m     right \u001b[38;5;241m=\u001b[39m _convert_num(node\u001b[38;5;241m.\u001b[39mright)\n\u001b[0;32m    104\u001b[0m     \u001b[38;5;28;01mif\u001b[39;00m \u001b[38;5;28misinstance\u001b[39m(left, (\u001b[38;5;28mint\u001b[39m, \u001b[38;5;28mfloat\u001b[39m)) \u001b[38;5;129;01mand\u001b[39;00m \u001b[38;5;28misinstance\u001b[39m(right, \u001b[38;5;28mcomplex\u001b[39m):\n",
      "File \u001b[1;32m~\\AppData\\Local\\Programs\\Python\\Python311\\Lib\\ast.py:83\u001b[0m, in \u001b[0;36mliteral_eval.<locals>._convert_signed_num\u001b[1;34m(node)\u001b[0m\n\u001b[0;32m     81\u001b[0m     \u001b[38;5;28;01melse\u001b[39;00m:\n\u001b[0;32m     82\u001b[0m         \u001b[38;5;28;01mreturn\u001b[39;00m \u001b[38;5;241m-\u001b[39m operand\n\u001b[1;32m---> 83\u001b[0m \u001b[38;5;28;01mreturn\u001b[39;00m \u001b[43m_convert_num\u001b[49m\u001b[43m(\u001b[49m\u001b[43mnode\u001b[49m\u001b[43m)\u001b[49m\n",
      "File \u001b[1;32m~\\AppData\\Local\\Programs\\Python\\Python311\\Lib\\ast.py:74\u001b[0m, in \u001b[0;36mliteral_eval.<locals>._convert_num\u001b[1;34m(node)\u001b[0m\n\u001b[0;32m     72\u001b[0m \u001b[38;5;28;01mdef\u001b[39;00m \u001b[38;5;21m_convert_num\u001b[39m(node):\n\u001b[0;32m     73\u001b[0m     \u001b[38;5;28;01mif\u001b[39;00m \u001b[38;5;129;01mnot\u001b[39;00m \u001b[38;5;28misinstance\u001b[39m(node, Constant) \u001b[38;5;129;01mor\u001b[39;00m \u001b[38;5;28mtype\u001b[39m(node\u001b[38;5;241m.\u001b[39mvalue) \u001b[38;5;129;01mnot\u001b[39;00m \u001b[38;5;129;01min\u001b[39;00m (\u001b[38;5;28mint\u001b[39m, \u001b[38;5;28mfloat\u001b[39m, \u001b[38;5;28mcomplex\u001b[39m):\n\u001b[1;32m---> 74\u001b[0m         \u001b[43m_raise_malformed_node\u001b[49m\u001b[43m(\u001b[49m\u001b[43mnode\u001b[49m\u001b[43m)\u001b[49m\n\u001b[0;32m     75\u001b[0m     \u001b[38;5;28;01mreturn\u001b[39;00m node\u001b[38;5;241m.\u001b[39mvalue\n",
      "File \u001b[1;32m~\\AppData\\Local\\Programs\\Python\\Python311\\Lib\\ast.py:71\u001b[0m, in \u001b[0;36mliteral_eval.<locals>._raise_malformed_node\u001b[1;34m(node)\u001b[0m\n\u001b[0;32m     69\u001b[0m \u001b[38;5;28;01mif\u001b[39;00m lno \u001b[38;5;241m:=\u001b[39m \u001b[38;5;28mgetattr\u001b[39m(node, \u001b[38;5;124m'\u001b[39m\u001b[38;5;124mlineno\u001b[39m\u001b[38;5;124m'\u001b[39m, \u001b[38;5;28;01mNone\u001b[39;00m):\n\u001b[0;32m     70\u001b[0m     msg \u001b[38;5;241m+\u001b[39m\u001b[38;5;241m=\u001b[39m \u001b[38;5;124mf\u001b[39m\u001b[38;5;124m'\u001b[39m\u001b[38;5;124m on line \u001b[39m\u001b[38;5;132;01m{\u001b[39;00mlno\u001b[38;5;132;01m}\u001b[39;00m\u001b[38;5;124m'\u001b[39m\n\u001b[1;32m---> 71\u001b[0m \u001b[38;5;28;01mraise\u001b[39;00m \u001b[38;5;167;01mValueError\u001b[39;00m(msg \u001b[38;5;241m+\u001b[39m \u001b[38;5;124mf\u001b[39m\u001b[38;5;124m'\u001b[39m\u001b[38;5;124m: \u001b[39m\u001b[38;5;132;01m{\u001b[39;00mnode\u001b[38;5;132;01m!r}\u001b[39;00m\u001b[38;5;124m'\u001b[39m)\n",
      "\u001b[1;31mValueError\u001b[0m: malformed node or string on line 1: <ast.BinOp object at 0x000001CCDB0A69B0>"
     ]
    }
   ],
   "source": [
    "insulated_releasdate = column_tolist(column_name=\"release_date\", dataframe_name=tmdb, key_name=\"name\")"
   ]
  },
  {
   "cell_type": "code",
   "execution_count": 43,
   "id": "c8f950d7-d789-4bc8-97db-68807c2b5d12",
   "metadata": {},
   "outputs": [
    {
     "data": {
      "text/plain": [
       "0    2009\n",
       "Name: release_date, dtype: object"
      ]
     },
     "execution_count": 43,
     "metadata": {},
     "output_type": "execute_result"
    }
   ],
   "source": [
    "releas_date = pd.to_datetime(tmdb[\"release_date\"])\n",
    "releas_year = releas_date.dt.strftime('%Y')\n",
    "releas_year[:1]"
   ]
  },
  {
   "cell_type": "code",
   "execution_count": null,
   "id": "2efba8ee-aecc-494b-95b2-c46b40961405",
   "metadata": {},
   "outputs": [],
   "source": []
  },
  {
   "cell_type": "code",
   "execution_count": 44,
   "id": "6c0464bf-6e8e-4a1e-aeed-971a4526bc84",
   "metadata": {},
   "outputs": [],
   "source": [
    "company_genre = pd.DataFrame(releas_year)"
   ]
  },
  {
   "cell_type": "code",
   "execution_count": 45,
   "id": "5cb0dca1-f822-45f1-94c3-2d618718175e",
   "metadata": {},
   "outputs": [],
   "source": [
    "company_genre[\"genres\"] = insulated_genres_name\n",
    "company_genre[\"name\"] = tmdb[\"title\"]\n",
    "company_genre[\"company\"] = insulated_company_name"
   ]
  },
  {
   "cell_type": "code",
   "execution_count": 46,
   "id": "3cb23df9-60b2-4292-a1e8-cea651b7bb88",
   "metadata": {},
   "outputs": [
    {
     "data": {
      "text/html": [
       "<div>\n",
       "<style scoped>\n",
       "    .dataframe tbody tr th:only-of-type {\n",
       "        vertical-align: middle;\n",
       "    }\n",
       "\n",
       "    .dataframe tbody tr th {\n",
       "        vertical-align: top;\n",
       "    }\n",
       "\n",
       "    .dataframe thead th {\n",
       "        text-align: right;\n",
       "    }\n",
       "</style>\n",
       "<table border=\"1\" class=\"dataframe\">\n",
       "  <thead>\n",
       "    <tr style=\"text-align: right;\">\n",
       "      <th></th>\n",
       "      <th>release_date</th>\n",
       "      <th>genres</th>\n",
       "      <th>name</th>\n",
       "      <th>company</th>\n",
       "    </tr>\n",
       "  </thead>\n",
       "  <tbody>\n",
       "    <tr>\n",
       "      <th>0</th>\n",
       "      <td>2009</td>\n",
       "      <td>[Action, Adventure, Fantasy, Science Fiction]</td>\n",
       "      <td>Avatar</td>\n",
       "      <td>[Ingenious Film Partners, Twentieth Century Fo...</td>\n",
       "    </tr>\n",
       "    <tr>\n",
       "      <th>1</th>\n",
       "      <td>2007</td>\n",
       "      <td>[Adventure, Fantasy, Action]</td>\n",
       "      <td>Pirates of the Caribbean: At World's End</td>\n",
       "      <td>[Walt Disney Pictures, Jerry Bruckheimer Films...</td>\n",
       "    </tr>\n",
       "  </tbody>\n",
       "</table>\n",
       "</div>"
      ],
      "text/plain": [
       "  release_date                                         genres  \\\n",
       "0         2009  [Action, Adventure, Fantasy, Science Fiction]   \n",
       "1         2007                   [Adventure, Fantasy, Action]   \n",
       "\n",
       "                                       name  \\\n",
       "0                                    Avatar   \n",
       "1  Pirates of the Caribbean: At World's End   \n",
       "\n",
       "                                             company  \n",
       "0  [Ingenious Film Partners, Twentieth Century Fo...  \n",
       "1  [Walt Disney Pictures, Jerry Bruckheimer Films...  "
      ]
     },
     "execution_count": 46,
     "metadata": {},
     "output_type": "execute_result"
    }
   ],
   "source": [
    "company_genre[:2]"
   ]
  },
  {
   "cell_type": "code",
   "execution_count": 47,
   "id": "3adf07d8-643a-4fa3-ae42-2b07afaa1898",
   "metadata": {},
   "outputs": [],
   "source": [
    "# company_genre.loc[company_genre[\"release_date\"] == \"2013\"]"
   ]
  },
  {
   "cell_type": "code",
   "execution_count": null,
   "id": "a58447ea-0aed-4ed2-8456-def3be7b6d38",
   "metadata": {},
   "outputs": [],
   "source": []
  },
  {
   "cell_type": "code",
   "execution_count": 48,
   "id": "febc587b-1512-4a54-ad7d-5aa83e7ca7f6",
   "metadata": {},
   "outputs": [],
   "source": [
    "groupby_year = company_genre.groupby(by=releas_year).sum()\n",
    "\n",
    "groupby_year.columns = [\"release_date\", \"genres\", \"name\", \"company\"]\n",
    "groupby_year.drop(\"release_date\", axis=1, inplace=True)\n",
    "groupby_year.reset_index(inplace=True)\n",
    "\n"
   ]
  },
  {
   "cell_type": "code",
   "execution_count": 49,
   "id": "e136cbd4-e7ad-47aa-8ffe-35c7b1955e57",
   "metadata": {},
   "outputs": [
    {
     "data": {
      "text/html": [
       "<div>\n",
       "<style scoped>\n",
       "    .dataframe tbody tr th:only-of-type {\n",
       "        vertical-align: middle;\n",
       "    }\n",
       "\n",
       "    .dataframe tbody tr th {\n",
       "        vertical-align: top;\n",
       "    }\n",
       "\n",
       "    .dataframe thead th {\n",
       "        text-align: right;\n",
       "    }\n",
       "</style>\n",
       "<table border=\"1\" class=\"dataframe\">\n",
       "  <thead>\n",
       "    <tr style=\"text-align: right;\">\n",
       "      <th></th>\n",
       "      <th>release_date</th>\n",
       "      <th>genres</th>\n",
       "      <th>name</th>\n",
       "      <th>company</th>\n",
       "    </tr>\n",
       "  </thead>\n",
       "  <tbody>\n",
       "    <tr>\n",
       "      <th>0</th>\n",
       "      <td>1916</td>\n",
       "      <td>[Drama]</td>\n",
       "      <td>Intolerance</td>\n",
       "      <td>[Triangle Film Corporation, Wark Producing Corp.]</td>\n",
       "    </tr>\n",
       "    <tr>\n",
       "      <th>1</th>\n",
       "      <td>1925</td>\n",
       "      <td>[Drama, Romance, War]</td>\n",
       "      <td>The Big Parade</td>\n",
       "      <td>[Metro-Goldwyn-Mayer (MGM)]</td>\n",
       "    </tr>\n",
       "    <tr>\n",
       "      <th>2</th>\n",
       "      <td>1927</td>\n",
       "      <td>[Drama, Science Fiction]</td>\n",
       "      <td>Metropolis</td>\n",
       "      <td>[Paramount Pictures, Universum Film (UFA)]</td>\n",
       "    </tr>\n",
       "    <tr>\n",
       "      <th>3</th>\n",
       "      <td>1929</td>\n",
       "      <td>[Drama, Thriller, Romance, Drama, Music, Romance]</td>\n",
       "      <td>Pandora's BoxThe Broadway Melody</td>\n",
       "      <td>[Nero Films, Metro-Goldwyn-Mayer (MGM)]</td>\n",
       "    </tr>\n",
       "    <tr>\n",
       "      <th>4</th>\n",
       "      <td>1930</td>\n",
       "      <td>[Action, Drama, History]</td>\n",
       "      <td>Hell's Angels</td>\n",
       "      <td>[The Caddo Company]</td>\n",
       "    </tr>\n",
       "    <tr>\n",
       "      <th>...</th>\n",
       "      <td>...</td>\n",
       "      <td>...</td>\n",
       "      <td>...</td>\n",
       "      <td>...</td>\n",
       "    </tr>\n",
       "    <tr>\n",
       "      <th>85</th>\n",
       "      <td>2013</td>\n",
       "      <td>[Action, Adventure, Western, Action, Adventure...</td>\n",
       "      <td>The Lone RangerMan of SteelThe Hobbit: The Des...</td>\n",
       "      <td>[Walt Disney Pictures, Jerry Bruckheimer Films...</td>\n",
       "    </tr>\n",
       "    <tr>\n",
       "      <th>86</th>\n",
       "      <td>2014</td>\n",
       "      <td>[Action, Adventure, Fantasy, Science Fiction, ...</td>\n",
       "      <td>The Hobbit: The Battle of the Five ArmiesTrans...</td>\n",
       "      <td>[WingNut Films, New Line Cinema, Warner Bros. ...</td>\n",
       "    </tr>\n",
       "    <tr>\n",
       "      <th>87</th>\n",
       "      <td>2015</td>\n",
       "      <td>[Action, Adventure, Crime, Action, Adventure, ...</td>\n",
       "      <td>SpectreAvengers: Age of UltronJurassic WorldFu...</td>\n",
       "      <td>[Columbia Pictures, Danjaq, B24, Marvel Studio...</td>\n",
       "    </tr>\n",
       "    <tr>\n",
       "      <th>88</th>\n",
       "      <td>2016</td>\n",
       "      <td>[Action, Adventure, Fantasy, Adventure, Action...</td>\n",
       "      <td>Batman v Superman: Dawn of JusticeCaptain Amer...</td>\n",
       "      <td>[DC Comics, Atlas Entertainment, Warner Bros.,...</td>\n",
       "    </tr>\n",
       "    <tr>\n",
       "      <th>89</th>\n",
       "      <td>2017</td>\n",
       "      <td>[Comedy, Family, Drama]</td>\n",
       "      <td>Growing Up Smith</td>\n",
       "      <td>[]</td>\n",
       "    </tr>\n",
       "  </tbody>\n",
       "</table>\n",
       "<p>90 rows × 4 columns</p>\n",
       "</div>"
      ],
      "text/plain": [
       "   release_date                                             genres  \\\n",
       "0          1916                                            [Drama]   \n",
       "1          1925                              [Drama, Romance, War]   \n",
       "2          1927                           [Drama, Science Fiction]   \n",
       "3          1929  [Drama, Thriller, Romance, Drama, Music, Romance]   \n",
       "4          1930                           [Action, Drama, History]   \n",
       "..          ...                                                ...   \n",
       "85         2013  [Action, Adventure, Western, Action, Adventure...   \n",
       "86         2014  [Action, Adventure, Fantasy, Science Fiction, ...   \n",
       "87         2015  [Action, Adventure, Crime, Action, Adventure, ...   \n",
       "88         2016  [Action, Adventure, Fantasy, Adventure, Action...   \n",
       "89         2017                            [Comedy, Family, Drama]   \n",
       "\n",
       "                                                 name  \\\n",
       "0                                         Intolerance   \n",
       "1                                      The Big Parade   \n",
       "2                                          Metropolis   \n",
       "3                    Pandora's BoxThe Broadway Melody   \n",
       "4                                       Hell's Angels   \n",
       "..                                                ...   \n",
       "85  The Lone RangerMan of SteelThe Hobbit: The Des...   \n",
       "86  The Hobbit: The Battle of the Five ArmiesTrans...   \n",
       "87  SpectreAvengers: Age of UltronJurassic WorldFu...   \n",
       "88  Batman v Superman: Dawn of JusticeCaptain Amer...   \n",
       "89                                   Growing Up Smith   \n",
       "\n",
       "                                              company  \n",
       "0   [Triangle Film Corporation, Wark Producing Corp.]  \n",
       "1                         [Metro-Goldwyn-Mayer (MGM)]  \n",
       "2          [Paramount Pictures, Universum Film (UFA)]  \n",
       "3             [Nero Films, Metro-Goldwyn-Mayer (MGM)]  \n",
       "4                                 [The Caddo Company]  \n",
       "..                                                ...  \n",
       "85  [Walt Disney Pictures, Jerry Bruckheimer Films...  \n",
       "86  [WingNut Films, New Line Cinema, Warner Bros. ...  \n",
       "87  [Columbia Pictures, Danjaq, B24, Marvel Studio...  \n",
       "88  [DC Comics, Atlas Entertainment, Warner Bros.,...  \n",
       "89                                                 []  \n",
       "\n",
       "[90 rows x 4 columns]"
      ]
     },
     "execution_count": 49,
     "metadata": {},
     "output_type": "execute_result"
    }
   ],
   "source": [
    "groupby_year"
   ]
  },
  {
   "cell_type": "code",
   "execution_count": 50,
   "id": "04fb728d-c7ec-4932-af6f-b97f1120f5bc",
   "metadata": {},
   "outputs": [
    {
     "name": "stdout",
     "output_type": "stream",
     "text": [
      "89    Growing Up Smith\n",
      "Name: name, dtype: object\n"
     ]
    }
   ],
   "source": [
    "print(groupby_year.loc[groupby_year[\"release_date\"] == \"2017\"][\"name\"])"
   ]
  },
  {
   "cell_type": "markdown",
   "id": "4181afbd-89ed-48b0-9844-3f16d97afae0",
   "metadata": {},
   "source": [
    "#### as you can see lists sum created has not nuique values so let's go to make it right:)))))\n",
    "#### in first step we will use a function to remove duplicated values.\n",
    "###### as long as our values are in list so we should find a goody good method to remove duplicated values from list and then apply it to whole rows"
   ]
  },
  {
   "cell_type": "code",
   "execution_count": 51,
   "id": "b225bc07-ef0b-4795-af50-fcea7e9cc61a",
   "metadata": {},
   "outputs": [
    {
     "ename": "ValueError",
     "evalue": "no results",
     "output_type": "error",
     "traceback": [
      "\u001b[1;31m---------------------------------------------------------------------------\u001b[0m",
      "\u001b[1;31mValueError\u001b[0m                                Traceback (most recent call last)",
      "Cell \u001b[1;32mIn[51], line 1\u001b[0m\n\u001b[1;32m----> 1\u001b[0m \u001b[43mgroupby_year\u001b[49m\u001b[43m[\u001b[49m\u001b[38;5;124;43m\"\u001b[39;49m\u001b[38;5;124;43mgenres\u001b[39;49m\u001b[38;5;124;43m\"\u001b[39;49m\u001b[43m]\u001b[49m\u001b[38;5;241;43m.\u001b[39;49m\u001b[43mapply\u001b[49m\u001b[43m(\u001b[49m\u001b[38;5;28;43mlist\u001b[39;49m\u001b[43m(\u001b[49m\u001b[38;5;28;43mset\u001b[39;49m\u001b[43m(\u001b[49m\u001b[43m)\u001b[49m\u001b[43m)\u001b[49m\u001b[43m)\u001b[49m\n",
      "File \u001b[1;32m~\\AppData\\Local\\Programs\\Python\\Python311\\Lib\\site-packages\\pandas\\core\\series.py:4771\u001b[0m, in \u001b[0;36mSeries.apply\u001b[1;34m(self, func, convert_dtype, args, **kwargs)\u001b[0m\n\u001b[0;32m   4661\u001b[0m \u001b[38;5;28;01mdef\u001b[39;00m \u001b[38;5;21mapply\u001b[39m(\n\u001b[0;32m   4662\u001b[0m     \u001b[38;5;28mself\u001b[39m,\n\u001b[0;32m   4663\u001b[0m     func: AggFuncType,\n\u001b[1;32m   (...)\u001b[0m\n\u001b[0;32m   4666\u001b[0m     \u001b[38;5;241m*\u001b[39m\u001b[38;5;241m*\u001b[39mkwargs,\n\u001b[0;32m   4667\u001b[0m ) \u001b[38;5;241m-\u001b[39m\u001b[38;5;241m>\u001b[39m DataFrame \u001b[38;5;241m|\u001b[39m Series:\n\u001b[0;32m   4668\u001b[0m \u001b[38;5;250m    \u001b[39m\u001b[38;5;124;03m\"\"\"\u001b[39;00m\n\u001b[0;32m   4669\u001b[0m \u001b[38;5;124;03m    Invoke function on values of Series.\u001b[39;00m\n\u001b[0;32m   4670\u001b[0m \n\u001b[1;32m   (...)\u001b[0m\n\u001b[0;32m   4769\u001b[0m \u001b[38;5;124;03m    dtype: float64\u001b[39;00m\n\u001b[0;32m   4770\u001b[0m \u001b[38;5;124;03m    \"\"\"\u001b[39;00m\n\u001b[1;32m-> 4771\u001b[0m     \u001b[38;5;28;01mreturn\u001b[39;00m \u001b[43mSeriesApply\u001b[49m\u001b[43m(\u001b[49m\u001b[38;5;28;43mself\u001b[39;49m\u001b[43m,\u001b[49m\u001b[43m \u001b[49m\u001b[43mfunc\u001b[49m\u001b[43m,\u001b[49m\u001b[43m \u001b[49m\u001b[43mconvert_dtype\u001b[49m\u001b[43m,\u001b[49m\u001b[43m \u001b[49m\u001b[43margs\u001b[49m\u001b[43m,\u001b[49m\u001b[43m \u001b[49m\u001b[43mkwargs\u001b[49m\u001b[43m)\u001b[49m\u001b[38;5;241;43m.\u001b[39;49m\u001b[43mapply\u001b[49m\u001b[43m(\u001b[49m\u001b[43m)\u001b[49m\n",
      "File \u001b[1;32m~\\AppData\\Local\\Programs\\Python\\Python311\\Lib\\site-packages\\pandas\\core\\apply.py:1116\u001b[0m, in \u001b[0;36mSeriesApply.apply\u001b[1;34m(self)\u001b[0m\n\u001b[0;32m   1114\u001b[0m \u001b[38;5;66;03m# dispatch to agg\u001b[39;00m\n\u001b[0;32m   1115\u001b[0m \u001b[38;5;28;01mif\u001b[39;00m is_list_like(\u001b[38;5;28mself\u001b[39m\u001b[38;5;241m.\u001b[39mf):\n\u001b[1;32m-> 1116\u001b[0m     \u001b[38;5;28;01mreturn\u001b[39;00m \u001b[38;5;28;43mself\u001b[39;49m\u001b[38;5;241;43m.\u001b[39;49m\u001b[43mapply_multiple\u001b[49m\u001b[43m(\u001b[49m\u001b[43m)\u001b[49m\n\u001b[0;32m   1118\u001b[0m \u001b[38;5;28;01mif\u001b[39;00m \u001b[38;5;28misinstance\u001b[39m(\u001b[38;5;28mself\u001b[39m\u001b[38;5;241m.\u001b[39mf, \u001b[38;5;28mstr\u001b[39m):\n\u001b[0;32m   1119\u001b[0m     \u001b[38;5;66;03m# if we are a string, try to dispatch\u001b[39;00m\n\u001b[0;32m   1120\u001b[0m     \u001b[38;5;28;01mreturn\u001b[39;00m \u001b[38;5;28mself\u001b[39m\u001b[38;5;241m.\u001b[39mapply_str()\n",
      "File \u001b[1;32m~\\AppData\\Local\\Programs\\Python\\Python311\\Lib\\site-packages\\pandas\\core\\apply.py:591\u001b[0m, in \u001b[0;36mApply.apply_multiple\u001b[1;34m(self)\u001b[0m\n\u001b[0;32m    582\u001b[0m \u001b[38;5;28;01mdef\u001b[39;00m \u001b[38;5;21mapply_multiple\u001b[39m(\u001b[38;5;28mself\u001b[39m) \u001b[38;5;241m-\u001b[39m\u001b[38;5;241m>\u001b[39m DataFrame \u001b[38;5;241m|\u001b[39m Series:\n\u001b[0;32m    583\u001b[0m \u001b[38;5;250m    \u001b[39m\u001b[38;5;124;03m\"\"\"\u001b[39;00m\n\u001b[0;32m    584\u001b[0m \u001b[38;5;124;03m    Compute apply in case of a list-like or dict-like.\u001b[39;00m\n\u001b[0;32m    585\u001b[0m \n\u001b[1;32m   (...)\u001b[0m\n\u001b[0;32m    589\u001b[0m \u001b[38;5;124;03m        Result when self.f is a list-like or dict-like, None otherwise.\u001b[39;00m\n\u001b[0;32m    590\u001b[0m \u001b[38;5;124;03m    \"\"\"\u001b[39;00m\n\u001b[1;32m--> 591\u001b[0m     \u001b[38;5;28;01mreturn\u001b[39;00m \u001b[38;5;28;43mself\u001b[39;49m\u001b[38;5;241;43m.\u001b[39;49m\u001b[43mobj\u001b[49m\u001b[38;5;241;43m.\u001b[39;49m\u001b[43maggregate\u001b[49m\u001b[43m(\u001b[49m\u001b[38;5;28;43mself\u001b[39;49m\u001b[38;5;241;43m.\u001b[39;49m\u001b[43mf\u001b[49m\u001b[43m,\u001b[49m\u001b[43m \u001b[49m\u001b[38;5;28;43mself\u001b[39;49m\u001b[38;5;241;43m.\u001b[39;49m\u001b[43maxis\u001b[49m\u001b[43m,\u001b[49m\u001b[43m \u001b[49m\u001b[38;5;241;43m*\u001b[39;49m\u001b[38;5;28;43mself\u001b[39;49m\u001b[38;5;241;43m.\u001b[39;49m\u001b[43margs\u001b[49m\u001b[43m,\u001b[49m\u001b[43m \u001b[49m\u001b[38;5;241;43m*\u001b[39;49m\u001b[38;5;241;43m*\u001b[39;49m\u001b[38;5;28;43mself\u001b[39;49m\u001b[38;5;241;43m.\u001b[39;49m\u001b[43mkwargs\u001b[49m\u001b[43m)\u001b[49m\n",
      "File \u001b[1;32m~\\AppData\\Local\\Programs\\Python\\Python311\\Lib\\site-packages\\pandas\\core\\series.py:4605\u001b[0m, in \u001b[0;36mSeries.aggregate\u001b[1;34m(self, func, axis, *args, **kwargs)\u001b[0m\n\u001b[0;32m   4602\u001b[0m     func \u001b[38;5;241m=\u001b[39m \u001b[38;5;28mdict\u001b[39m(kwargs\u001b[38;5;241m.\u001b[39mitems())\n\u001b[0;32m   4604\u001b[0m op \u001b[38;5;241m=\u001b[39m SeriesApply(\u001b[38;5;28mself\u001b[39m, func, convert_dtype\u001b[38;5;241m=\u001b[39m\u001b[38;5;28;01mFalse\u001b[39;00m, args\u001b[38;5;241m=\u001b[39margs, kwargs\u001b[38;5;241m=\u001b[39mkwargs)\n\u001b[1;32m-> 4605\u001b[0m result \u001b[38;5;241m=\u001b[39m \u001b[43mop\u001b[49m\u001b[38;5;241;43m.\u001b[39;49m\u001b[43magg\u001b[49m\u001b[43m(\u001b[49m\u001b[43m)\u001b[49m\n\u001b[0;32m   4606\u001b[0m \u001b[38;5;28;01mreturn\u001b[39;00m result\n",
      "File \u001b[1;32m~\\AppData\\Local\\Programs\\Python\\Python311\\Lib\\site-packages\\pandas\\core\\apply.py:1126\u001b[0m, in \u001b[0;36mSeriesApply.agg\u001b[1;34m(self)\u001b[0m\n\u001b[0;32m   1125\u001b[0m \u001b[38;5;28;01mdef\u001b[39;00m \u001b[38;5;21magg\u001b[39m(\u001b[38;5;28mself\u001b[39m):\n\u001b[1;32m-> 1126\u001b[0m     result \u001b[38;5;241m=\u001b[39m \u001b[38;5;28;43msuper\u001b[39;49m\u001b[43m(\u001b[49m\u001b[43m)\u001b[49m\u001b[38;5;241;43m.\u001b[39;49m\u001b[43magg\u001b[49m\u001b[43m(\u001b[49m\u001b[43m)\u001b[49m\n\u001b[0;32m   1127\u001b[0m     \u001b[38;5;28;01mif\u001b[39;00m result \u001b[38;5;129;01mis\u001b[39;00m \u001b[38;5;28;01mNone\u001b[39;00m:\n\u001b[0;32m   1128\u001b[0m         f \u001b[38;5;241m=\u001b[39m \u001b[38;5;28mself\u001b[39m\u001b[38;5;241m.\u001b[39mf\n",
      "File \u001b[1;32m~\\AppData\\Local\\Programs\\Python\\Python311\\Lib\\site-packages\\pandas\\core\\apply.py:175\u001b[0m, in \u001b[0;36mApply.agg\u001b[1;34m(self)\u001b[0m\n\u001b[0;32m    172\u001b[0m     \u001b[38;5;28;01mreturn\u001b[39;00m \u001b[38;5;28mself\u001b[39m\u001b[38;5;241m.\u001b[39magg_dict_like()\n\u001b[0;32m    173\u001b[0m \u001b[38;5;28;01melif\u001b[39;00m is_list_like(arg):\n\u001b[0;32m    174\u001b[0m     \u001b[38;5;66;03m# we require a list, but not a 'str'\u001b[39;00m\n\u001b[1;32m--> 175\u001b[0m     \u001b[38;5;28;01mreturn\u001b[39;00m \u001b[38;5;28;43mself\u001b[39;49m\u001b[38;5;241;43m.\u001b[39;49m\u001b[43magg_list_like\u001b[49m\u001b[43m(\u001b[49m\u001b[43m)\u001b[49m\n\u001b[0;32m    177\u001b[0m \u001b[38;5;28;01mif\u001b[39;00m callable(arg):\n\u001b[0;32m    178\u001b[0m     f \u001b[38;5;241m=\u001b[39m com\u001b[38;5;241m.\u001b[39mget_cython_func(arg)\n",
      "File \u001b[1;32m~\\AppData\\Local\\Programs\\Python\\Python311\\Lib\\site-packages\\pandas\\core\\apply.py:438\u001b[0m, in \u001b[0;36mApply.agg_list_like\u001b[1;34m(self)\u001b[0m\n\u001b[0;32m    436\u001b[0m \u001b[38;5;66;03m# if we are empty\u001b[39;00m\n\u001b[0;32m    437\u001b[0m \u001b[38;5;28;01mif\u001b[39;00m \u001b[38;5;129;01mnot\u001b[39;00m \u001b[38;5;28mlen\u001b[39m(results):\n\u001b[1;32m--> 438\u001b[0m     \u001b[38;5;28;01mraise\u001b[39;00m \u001b[38;5;167;01mValueError\u001b[39;00m(\u001b[38;5;124m\"\u001b[39m\u001b[38;5;124mno results\u001b[39m\u001b[38;5;124m\"\u001b[39m)\n\u001b[0;32m    440\u001b[0m \u001b[38;5;28;01mif\u001b[39;00m \u001b[38;5;28mlen\u001b[39m(failed_names) \u001b[38;5;241m>\u001b[39m \u001b[38;5;241m0\u001b[39m:\n\u001b[0;32m    441\u001b[0m     warnings\u001b[38;5;241m.\u001b[39mwarn(\n\u001b[0;32m    442\u001b[0m         depr_nuisance_columns_msg\u001b[38;5;241m.\u001b[39mformat(failed_names),\n\u001b[0;32m    443\u001b[0m         \u001b[38;5;167;01mFutureWarning\u001b[39;00m,\n\u001b[0;32m    444\u001b[0m         stacklevel\u001b[38;5;241m=\u001b[39mfind_stack_level(),\n\u001b[0;32m    445\u001b[0m     )\n",
      "\u001b[1;31mValueError\u001b[0m: no results"
     ]
    }
   ],
   "source": [
    "groupby_year[\"genres\"].apply(list(set()))"
   ]
  },
  {
   "cell_type": "code",
   "execution_count": 52,
   "id": "942f5a73-ce85-4ccb-ba76-030eb9be91e3",
   "metadata": {},
   "outputs": [],
   "source": [
    "for row_index in range(len(groupby_year[\"genres\"])):\n",
    "    groupby_year[\"genres\"][row_index] = list(set(groupby_year[\"genres\"][row_index])) # to remove genres duplicated\n",
    "    groupby_year[\"company\"][row_index] = list(set(groupby_year[\"company\"][row_index])) # to remove compny duplicated"
   ]
  },
  {
   "cell_type": "code",
   "execution_count": 53,
   "id": "5d6a14e0-fdc9-433b-9cbc-fb3b7bc71a3a",
   "metadata": {},
   "outputs": [
    {
     "data": {
      "text/html": [
       "<div>\n",
       "<style scoped>\n",
       "    .dataframe tbody tr th:only-of-type {\n",
       "        vertical-align: middle;\n",
       "    }\n",
       "\n",
       "    .dataframe tbody tr th {\n",
       "        vertical-align: top;\n",
       "    }\n",
       "\n",
       "    .dataframe thead th {\n",
       "        text-align: right;\n",
       "    }\n",
       "</style>\n",
       "<table border=\"1\" class=\"dataframe\">\n",
       "  <thead>\n",
       "    <tr style=\"text-align: right;\">\n",
       "      <th></th>\n",
       "      <th>release_date</th>\n",
       "      <th>genres</th>\n",
       "      <th>name</th>\n",
       "      <th>company</th>\n",
       "    </tr>\n",
       "  </thead>\n",
       "  <tbody>\n",
       "    <tr>\n",
       "      <th>0</th>\n",
       "      <td>1916</td>\n",
       "      <td>[Drama]</td>\n",
       "      <td>Intolerance</td>\n",
       "      <td>[Triangle Film Corporation, Wark Producing Corp.]</td>\n",
       "    </tr>\n",
       "    <tr>\n",
       "      <th>1</th>\n",
       "      <td>1925</td>\n",
       "      <td>[Romance, Drama, War]</td>\n",
       "      <td>The Big Parade</td>\n",
       "      <td>[Metro-Goldwyn-Mayer (MGM)]</td>\n",
       "    </tr>\n",
       "    <tr>\n",
       "      <th>2</th>\n",
       "      <td>1927</td>\n",
       "      <td>[Drama, Science Fiction]</td>\n",
       "      <td>Metropolis</td>\n",
       "      <td>[Universum Film (UFA), Paramount Pictures]</td>\n",
       "    </tr>\n",
       "    <tr>\n",
       "      <th>3</th>\n",
       "      <td>1929</td>\n",
       "      <td>[Romance, Thriller, Drama, Music]</td>\n",
       "      <td>Pandora's BoxThe Broadway Melody</td>\n",
       "      <td>[Nero Films, Metro-Goldwyn-Mayer (MGM)]</td>\n",
       "    </tr>\n",
       "    <tr>\n",
       "      <th>4</th>\n",
       "      <td>1930</td>\n",
       "      <td>[Action, History, Drama]</td>\n",
       "      <td>Hell's Angels</td>\n",
       "      <td>[The Caddo Company]</td>\n",
       "    </tr>\n",
       "    <tr>\n",
       "      <th>...</th>\n",
       "      <td>...</td>\n",
       "      <td>...</td>\n",
       "      <td>...</td>\n",
       "      <td>...</td>\n",
       "    </tr>\n",
       "    <tr>\n",
       "      <th>85</th>\n",
       "      <td>2013</td>\n",
       "      <td>[War, Drama, Family, Action, Music, Documentar...</td>\n",
       "      <td>The Lone RangerMan of SteelThe Hobbit: The Des...</td>\n",
       "      <td>[Ruby Films, Silver Reel, Rainmaker Entertainm...</td>\n",
       "    </tr>\n",
       "    <tr>\n",
       "      <th>86</th>\n",
       "      <td>2014</td>\n",
       "      <td>[History, Comedy, Horror, Action, Adventure, R...</td>\n",
       "      <td>The Hobbit: The Battle of the Five ArmiesTrans...</td>\n",
       "      <td>[Baumgarten Management and Productions (BMP), ...</td>\n",
       "    </tr>\n",
       "    <tr>\n",
       "      <th>87</th>\n",
       "      <td>2015</td>\n",
       "      <td>[History, Comedy, Horror, Action, Adventure, A...</td>\n",
       "      <td>SpectreAvengers: Age of UltronJurassic WorldFu...</td>\n",
       "      <td>[Cott Productions, Anima Estudios, Silver Reel...</td>\n",
       "    </tr>\n",
       "    <tr>\n",
       "      <th>88</th>\n",
       "      <td>2016</td>\n",
       "      <td>[History, Comedy, Horror, Action, Adventure, A...</td>\n",
       "      <td>Batman v Superman: Dawn of JusticeCaptain Amer...</td>\n",
       "      <td>[Vallelonga Productions, Warner Bros., Gama En...</td>\n",
       "    </tr>\n",
       "    <tr>\n",
       "      <th>89</th>\n",
       "      <td>2017</td>\n",
       "      <td>[Comedy, Family, Drama]</td>\n",
       "      <td>Growing Up Smith</td>\n",
       "      <td>[]</td>\n",
       "    </tr>\n",
       "  </tbody>\n",
       "</table>\n",
       "<p>90 rows × 4 columns</p>\n",
       "</div>"
      ],
      "text/plain": [
       "   release_date                                             genres  \\\n",
       "0          1916                                            [Drama]   \n",
       "1          1925                              [Romance, Drama, War]   \n",
       "2          1927                           [Drama, Science Fiction]   \n",
       "3          1929                  [Romance, Thriller, Drama, Music]   \n",
       "4          1930                           [Action, History, Drama]   \n",
       "..          ...                                                ...   \n",
       "85         2013  [War, Drama, Family, Action, Music, Documentar...   \n",
       "86         2014  [History, Comedy, Horror, Action, Adventure, R...   \n",
       "87         2015  [History, Comedy, Horror, Action, Adventure, A...   \n",
       "88         2016  [History, Comedy, Horror, Action, Adventure, A...   \n",
       "89         2017                            [Comedy, Family, Drama]   \n",
       "\n",
       "                                                 name  \\\n",
       "0                                         Intolerance   \n",
       "1                                      The Big Parade   \n",
       "2                                          Metropolis   \n",
       "3                    Pandora's BoxThe Broadway Melody   \n",
       "4                                       Hell's Angels   \n",
       "..                                                ...   \n",
       "85  The Lone RangerMan of SteelThe Hobbit: The Des...   \n",
       "86  The Hobbit: The Battle of the Five ArmiesTrans...   \n",
       "87  SpectreAvengers: Age of UltronJurassic WorldFu...   \n",
       "88  Batman v Superman: Dawn of JusticeCaptain Amer...   \n",
       "89                                   Growing Up Smith   \n",
       "\n",
       "                                              company  \n",
       "0   [Triangle Film Corporation, Wark Producing Corp.]  \n",
       "1                         [Metro-Goldwyn-Mayer (MGM)]  \n",
       "2          [Universum Film (UFA), Paramount Pictures]  \n",
       "3             [Nero Films, Metro-Goldwyn-Mayer (MGM)]  \n",
       "4                                 [The Caddo Company]  \n",
       "..                                                ...  \n",
       "85  [Ruby Films, Silver Reel, Rainmaker Entertainm...  \n",
       "86  [Baumgarten Management and Productions (BMP), ...  \n",
       "87  [Cott Productions, Anima Estudios, Silver Reel...  \n",
       "88  [Vallelonga Productions, Warner Bros., Gama En...  \n",
       "89                                                 []  \n",
       "\n",
       "[90 rows x 4 columns]"
      ]
     },
     "execution_count": 53,
     "metadata": {},
     "output_type": "execute_result"
    }
   ],
   "source": [
    "groupby_year"
   ]
  },
  {
   "cell_type": "code",
   "execution_count": null,
   "id": "d26dc0cb-67bd-475c-8e29-50a5ad3d9611",
   "metadata": {},
   "outputs": [],
   "source": []
  },
  {
   "cell_type": "code",
   "execution_count": null,
   "id": "39e6ba98-c8b7-4bd3-9584-f84c5f72a763",
   "metadata": {},
   "outputs": [],
   "source": []
  },
  {
   "cell_type": "code",
   "execution_count": null,
   "id": "7ac18c94-4c83-4b4f-b6d2-5aea68ff8f62",
   "metadata": {},
   "outputs": [],
   "source": []
  },
  {
   "cell_type": "code",
   "execution_count": null,
   "id": "9115e2ff-855c-499b-aeec-857c11550739",
   "metadata": {},
   "outputs": [],
   "source": []
  },
  {
   "cell_type": "code",
   "execution_count": null,
   "id": "83461a1c-009f-44c8-8b4f-c7f64f8a07e2",
   "metadata": {},
   "outputs": [],
   "source": []
  },
  {
   "cell_type": "markdown",
   "id": "6130b1d5-0f57-4fc7-a73e-50576e0cdce0",
   "metadata": {},
   "source": [
    "# Year and Budget"
   ]
  },
  {
   "cell_type": "code",
   "execution_count": 54,
   "id": "3eb534fe-b393-4723-930f-9a90d5cd439c",
   "metadata": {},
   "outputs": [
    {
     "data": {
      "text/html": [
       "<div>\n",
       "<style scoped>\n",
       "    .dataframe tbody tr th:only-of-type {\n",
       "        vertical-align: middle;\n",
       "    }\n",
       "\n",
       "    .dataframe tbody tr th {\n",
       "        vertical-align: top;\n",
       "    }\n",
       "\n",
       "    .dataframe thead th {\n",
       "        text-align: right;\n",
       "    }\n",
       "</style>\n",
       "<table border=\"1\" class=\"dataframe\">\n",
       "  <thead>\n",
       "    <tr style=\"text-align: right;\">\n",
       "      <th></th>\n",
       "      <th>budget</th>\n",
       "      <th>genres</th>\n",
       "      <th>homepage</th>\n",
       "      <th>id</th>\n",
       "      <th>keywords</th>\n",
       "      <th>original_language</th>\n",
       "      <th>original_title</th>\n",
       "      <th>overview</th>\n",
       "      <th>popularity</th>\n",
       "      <th>production_companies</th>\n",
       "      <th>...</th>\n",
       "      <th>runtime</th>\n",
       "      <th>spoken_languages</th>\n",
       "      <th>status</th>\n",
       "      <th>tagline</th>\n",
       "      <th>title</th>\n",
       "      <th>vote_average</th>\n",
       "      <th>vote_count</th>\n",
       "      <th>movie_id</th>\n",
       "      <th>cast</th>\n",
       "      <th>crew</th>\n",
       "    </tr>\n",
       "  </thead>\n",
       "  <tbody>\n",
       "    <tr>\n",
       "      <th>0</th>\n",
       "      <td>237000000</td>\n",
       "      <td>[{\"id\": 28, \"name\": \"Action\"}, {\"id\": 12, \"nam...</td>\n",
       "      <td>http://www.avatarmovie.com/</td>\n",
       "      <td>19995</td>\n",
       "      <td>[{\"id\": 1463, \"name\": \"culture clash\"}, {\"id\":...</td>\n",
       "      <td>en</td>\n",
       "      <td>Avatar</td>\n",
       "      <td>In the 22nd century, a paraplegic Marine is di...</td>\n",
       "      <td>150.437577</td>\n",
       "      <td>[{\"name\": \"Ingenious Film Partners\", \"id\": 289...</td>\n",
       "      <td>...</td>\n",
       "      <td>162.0</td>\n",
       "      <td>[{\"iso_639_1\": \"en\", \"name\": \"English\"}, {\"iso...</td>\n",
       "      <td>Released</td>\n",
       "      <td>Enter the World of Pandora.</td>\n",
       "      <td>Avatar</td>\n",
       "      <td>7.2</td>\n",
       "      <td>11800</td>\n",
       "      <td>19995</td>\n",
       "      <td>[{\"cast_id\": 242, \"character\": \"Jake Sully\", \"...</td>\n",
       "      <td>[{\"credit_id\": \"52fe48009251416c750aca23\", \"de...</td>\n",
       "    </tr>\n",
       "  </tbody>\n",
       "</table>\n",
       "<p>1 rows × 23 columns</p>\n",
       "</div>"
      ],
      "text/plain": [
       "      budget                                             genres  \\\n",
       "0  237000000  [{\"id\": 28, \"name\": \"Action\"}, {\"id\": 12, \"nam...   \n",
       "\n",
       "                      homepage     id  \\\n",
       "0  http://www.avatarmovie.com/  19995   \n",
       "\n",
       "                                            keywords original_language  \\\n",
       "0  [{\"id\": 1463, \"name\": \"culture clash\"}, {\"id\":...                en   \n",
       "\n",
       "  original_title                                           overview  \\\n",
       "0         Avatar  In the 22nd century, a paraplegic Marine is di...   \n",
       "\n",
       "   popularity                               production_companies  ... runtime  \\\n",
       "0  150.437577  [{\"name\": \"Ingenious Film Partners\", \"id\": 289...  ...   162.0   \n",
       "\n",
       "                                    spoken_languages    status  \\\n",
       "0  [{\"iso_639_1\": \"en\", \"name\": \"English\"}, {\"iso...  Released   \n",
       "\n",
       "                       tagline   title vote_average vote_count movie_id  \\\n",
       "0  Enter the World of Pandora.  Avatar          7.2      11800    19995   \n",
       "\n",
       "                                                cast  \\\n",
       "0  [{\"cast_id\": 242, \"character\": \"Jake Sully\", \"...   \n",
       "\n",
       "                                                crew  \n",
       "0  [{\"credit_id\": \"52fe48009251416c750aca23\", \"de...  \n",
       "\n",
       "[1 rows x 23 columns]"
      ]
     },
     "execution_count": 54,
     "metadata": {},
     "output_type": "execute_result"
    }
   ],
   "source": [
    "tmdb[:1]"
   ]
  },
  {
   "cell_type": "code",
   "execution_count": 55,
   "id": "72083534-3196-4625-a526-9ddb8211a1a7",
   "metadata": {},
   "outputs": [
    {
     "data": {
      "text/plain": [
       "0    2009\n",
       "Name: release_date, dtype: object"
      ]
     },
     "execution_count": 55,
     "metadata": {},
     "output_type": "execute_result"
    }
   ],
   "source": [
    "# from last section\n",
    "releas_year[:1]"
   ]
  },
  {
   "cell_type": "code",
   "execution_count": 56,
   "id": "5d94e4e0-2de0-45d6-b6b4-83924981e0c8",
   "metadata": {},
   "outputs": [
    {
     "data": {
      "text/plain": [
       "0    237000000\n",
       "Name: budget, dtype: int64"
      ]
     },
     "execution_count": 56,
     "metadata": {},
     "output_type": "execute_result"
    }
   ],
   "source": [
    "tmdb[\"budget\"][:1]"
   ]
  },
  {
   "cell_type": "markdown",
   "id": "3e574385-c77b-433e-94ed-47026e613f79",
   "metadata": {},
   "source": [
    "#### let's create a dataframe based on budget and year"
   ]
  },
  {
   "cell_type": "code",
   "execution_count": 61,
   "id": "74aa833d-abed-4ed9-9cef-2c87f5b09136",
   "metadata": {},
   "outputs": [
    {
     "data": {
      "text/html": [
       "<div>\n",
       "<style scoped>\n",
       "    .dataframe tbody tr th:only-of-type {\n",
       "        vertical-align: middle;\n",
       "    }\n",
       "\n",
       "    .dataframe tbody tr th {\n",
       "        vertical-align: top;\n",
       "    }\n",
       "\n",
       "    .dataframe thead th {\n",
       "        text-align: right;\n",
       "    }\n",
       "</style>\n",
       "<table border=\"1\" class=\"dataframe\">\n",
       "  <thead>\n",
       "    <tr style=\"text-align: right;\">\n",
       "      <th></th>\n",
       "      <th>releas_year</th>\n",
       "      <th>budget</th>\n",
       "    </tr>\n",
       "  </thead>\n",
       "  <tbody>\n",
       "    <tr>\n",
       "      <th>0</th>\n",
       "      <td>2009</td>\n",
       "      <td>237000000</td>\n",
       "    </tr>\n",
       "    <tr>\n",
       "      <th>1</th>\n",
       "      <td>2007</td>\n",
       "      <td>300000000</td>\n",
       "    </tr>\n",
       "  </tbody>\n",
       "</table>\n",
       "</div>"
      ],
      "text/plain": [
       "  releas_year     budget\n",
       "0        2009  237000000\n",
       "1        2007  300000000"
      ]
     },
     "execution_count": 61,
     "metadata": {},
     "output_type": "execute_result"
    }
   ],
   "source": [
    "time_budget = pd.DataFrame(data={\"releas_year\":releas_year, \"budget\":tmdb[\"budget\"]})\n",
    "time_budget[:2]"
   ]
  },
  {
   "cell_type": "code",
   "execution_count": 68,
   "id": "46783f6f-259c-455f-b043-661f0a8d97c6",
   "metadata": {
    "scrolled": true
   },
   "outputs": [
    {
     "data": {
      "text/html": [
       "<div>\n",
       "<style scoped>\n",
       "    .dataframe tbody tr th:only-of-type {\n",
       "        vertical-align: middle;\n",
       "    }\n",
       "\n",
       "    .dataframe tbody tr th {\n",
       "        vertical-align: top;\n",
       "    }\n",
       "\n",
       "    .dataframe thead th {\n",
       "        text-align: right;\n",
       "    }\n",
       "</style>\n",
       "<table border=\"1\" class=\"dataframe\">\n",
       "  <thead>\n",
       "    <tr style=\"text-align: right;\">\n",
       "      <th></th>\n",
       "      <th>releas_year</th>\n",
       "      <th>budget</th>\n",
       "    </tr>\n",
       "  </thead>\n",
       "  <tbody>\n",
       "    <tr>\n",
       "      <th>0</th>\n",
       "      <td>1916</td>\n",
       "      <td>385907</td>\n",
       "    </tr>\n",
       "    <tr>\n",
       "      <th>1</th>\n",
       "      <td>1925</td>\n",
       "      <td>245000</td>\n",
       "    </tr>\n",
       "  </tbody>\n",
       "</table>\n",
       "</div>"
      ],
      "text/plain": [
       "  releas_year  budget\n",
       "0        1916  385907\n",
       "1        1925  245000"
      ]
     },
     "execution_count": 68,
     "metadata": {},
     "output_type": "execute_result"
    }
   ],
   "source": [
    "time_budget_group = time_budget.groupby(\"releas_year\").sum().reset_index()\n",
    "time_budget_group[:2]"
   ]
  },
  {
   "cell_type": "markdown",
   "id": "c7711cce-f1e2-4d99-9c03-d9bcdc8a6b00",
   "metadata": {},
   "source": [
    "# Year and popularity"
   ]
  },
  {
   "cell_type": "markdown",
   "id": "725e7227-c4eb-44a3-8797-6d7257881dbe",
   "metadata": {},
   "source": [
    "# budget and runtime"
   ]
  },
  {
   "cell_type": "markdown",
   "id": "c617fc31-3a1f-4ca6-9b3b-bd6fff2375a4",
   "metadata": {},
   "source": [
    "# budget and popularity"
   ]
  },
  {
   "cell_type": "code",
   "execution_count": null,
   "id": "449b443c-b0d1-4eb1-a70a-55bf9ba3a7e1",
   "metadata": {},
   "outputs": [],
   "source": []
  },
  {
   "cell_type": "code",
   "execution_count": null,
   "id": "91062e2a-5ca3-46c2-b0da-dacf0c09bcb3",
   "metadata": {},
   "outputs": [],
   "source": []
  },
  {
   "cell_type": "code",
   "execution_count": null,
   "id": "65054cf3-a647-40d5-811f-64559e81166c",
   "metadata": {},
   "outputs": [],
   "source": []
  },
  {
   "cell_type": "code",
   "execution_count": null,
   "id": "4facf90b-5d50-4d73-9550-43672e96dd29",
   "metadata": {},
   "outputs": [],
   "source": []
  },
  {
   "cell_type": "code",
   "execution_count": null,
   "id": "117e8baa-3a98-43f6-a4fa-4bdd49dc658c",
   "metadata": {},
   "outputs": [],
   "source": []
  },
  {
   "cell_type": "code",
   "execution_count": null,
   "id": "0fcb76fe-67e7-47ef-9dfe-d75acfca5227",
   "metadata": {},
   "outputs": [],
   "source": []
  },
  {
   "cell_type": "code",
   "execution_count": null,
   "id": "065a3c90-6479-41d9-9d5d-d843e5b05f32",
   "metadata": {},
   "outputs": [],
   "source": []
  },
  {
   "cell_type": "code",
   "execution_count": null,
   "id": "35afbaab-7e07-4188-8e30-a8bc69bb552f",
   "metadata": {},
   "outputs": [],
   "source": []
  },
  {
   "cell_type": "code",
   "execution_count": null,
   "id": "85745c77-9091-4ae9-be68-c5a610d8b940",
   "metadata": {},
   "outputs": [],
   "source": []
  },
  {
   "cell_type": "code",
   "execution_count": null,
   "id": "e323f608-7d97-4d8f-a2bf-8f12a7c0d186",
   "metadata": {},
   "outputs": [],
   "source": []
  },
  {
   "cell_type": "code",
   "execution_count": null,
   "id": "09110ef2-b797-479d-91df-97ec3b6c8a29",
   "metadata": {},
   "outputs": [],
   "source": [
    "#### genres and release_date\n",
    "#### genres and budget\n",
    "#### genres and language\n",
    "#### genres and popularity\n",
    "#### popularity and production_companies\t\n",
    "#### year and genre\n",
    "#### budget and genre\n",
    "###\n",
    "\n",
    "##### production compani and runtime\n",
    "##### production compani and pupulaorty\n",
    "\n",
    "#### production company and year"
   ]
  }
 ],
 "metadata": {
  "kernelspec": {
   "display_name": "Python 3 (ipykernel)",
   "language": "python",
   "name": "python3"
  },
  "language_info": {
   "codemirror_mode": {
    "name": "ipython",
    "version": 3
   },
   "file_extension": ".py",
   "mimetype": "text/x-python",
   "name": "python",
   "nbconvert_exporter": "python",
   "pygments_lexer": "ipython3",
   "version": "3.11.4"
  }
 },
 "nbformat": 4,
 "nbformat_minor": 5
}
