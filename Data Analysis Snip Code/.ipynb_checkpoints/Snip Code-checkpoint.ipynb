{
 "cells": [
  {
   "cell_type": "markdown",
   "metadata": {},
   "source": [
    "## Python list comprehensions\n",
    "\n",
    "#### Syntax:\n",
    "#### newlist = [expression for item in iterable if condition == True]"
   ]
  },
  {
   "cell_type": "code",
   "execution_count": 1,
   "metadata": {},
   "outputs": [
    {
     "name": "stdout",
     "output_type": "stream",
     "text": [
      "['apple', 'banana', 'mango']\n"
     ]
    }
   ],
   "source": [
    "# a good and simple example\n",
    "fruits = [\"apple\", \"banana\", \"cherry\", \"kiwi\", \"mango\"]\n",
    "\n",
    "new_list = [x for x in fruits if \"a\" in x]\n",
    "\n",
    "print(new_list)"
   ]
  },
  {
   "cell_type": "markdown",
   "metadata": {},
   "source": [
    "\n",
    "**Containers are packages of software that contain all of the necessary elements to run in any environment**"
   ]
  },
  {
   "cell_type": "markdown",
   "metadata": {},
   "source": [
    "## python collection counter class:\n",
    "##### https://docs.python.org/3/library/collections.html\n",
    "##### This module implements specialized container datatypes providing alternatives to Python’s general purpose built-in containers, dict, list, set, and tuple."
   ]
  },
  {
   "cell_type": "code",
   "execution_count": null,
   "metadata": {},
   "outputs": [],
   "source": []
  },
  {
   "cell_type": "markdown",
   "metadata": {},
   "source": [
    "#### path = \"filepath\" \n",
    "\n",
    "####  data = pd.read_csv(path+\"name\") or (f\"{path}file_name\")\n",
    "\n",
    "#### data = pd.read_cav(path, sep= \":\", encoding = 'utf-8' or 'latin' or any thin else)"
   ]
  },
  {
   "cell_type": "markdown",
   "metadata": {},
   "source": [
    "\n",
    "# *******************************************\n",
    "\n",
    "### for having a integrated view of all data frames:\n",
    "\n",
    "#### for df in [name of all dataframes]\n",
    "####           print(df.head())\n",
    "####           print(\"+++++++++++++++++++++\")"
   ]
  },
  {
   "cell_type": "markdown",
   "metadata": {},
   "source": [
    "# **************************\n",
    "\n",
    "### for combine some datasets: use merge()\n",
    "\n",
    "### new_frame = pd.merge(pd.merge(old_dataframe1, old_dataframe2), old_dataframe3)"
   ]
  },
  {
   "cell_type": "markdown",
   "metadata": {},
   "source": [
    "# +++++++++++++++++++++++++++++++++++++++"
   ]
  },
  {
   "cell_type": "markdown",
   "metadata": {},
   "source": [
    "# Delete a part of data frame as a row or a column\n",
    "## dataframe.drop(\"name of row of column\" ,axis= zero or one, inplace = True of False)\n"
   ]
  },
  {
   "cell_type": "markdown",
   "metadata": {},
   "source": [
    "# AXIS =0\n",
    "### When the axis is set to zero while performing a specific action,\n",
    "### the action is performed on rows that satisfy the condition.\n",
    "\n",
    "# --------------\n",
    "\n",
    "# AXIS=1\n",
    "### When the axis is set to one while performing a specific action,\n",
    "### the action is performed on **column**(s) that satisfy the condition"
   ]
  },
  {
   "cell_type": "markdown",
   "metadata": {},
   "source": [
    "# +++++++++++++++++++++++++++++++++++++++++++\n",
    "\n",
    "## What is inplace true and false in pandas?\n",
    "\n",
    "### Explaining the Inplace Parameter for Beginners\n",
    "### When inplace = True , the data is modified in place,\n",
    "### which means it will return nothing and the dataframe is now updated.\n",
    "### When inplace = False , which is the default,\n",
    "### then the operation is performed and it returns a copy of the object."
   ]
  },
  {
   "cell_type": "markdown",
   "metadata": {},
   "source": [
    "# ++++++++++++++++++++++\n",
    "\n",
    "## handy pandas methods\n",
    "\n",
    "##### data.iloc: This command selects rows and columns by index. The index can be an integer, a list of integers, or a slice object.\n",
    "##### data.loc: This command selects rows and columns by label. The label can be a string, a list of strings, or a dictionary.\n",
    "##### data.at: This command selects a single value by label. The label can be a string or a list of strings.\n",
    "##### data.ix: This command is a hybrid of data.loc and data.iloc and is deprecated in Pandas 1.0.0.\n",
    "##### data.query: This command selects rows based on a Boolean expression. The Boolean expression can be any valid Python expression that evaluates to a Boolean value.\n",
    "##### data.head(): This command returns the first few rows of the DataFrame. The number of rows to return is specified by the n parameter.\n",
    "##### data.tail(): This command returns the last few rows of the DataFrame. The number of rows to return is specified by the n parameter.\n",
    "##### data.sample(): This command returns a random sample of rows from the DataFrame. The number of rows to return is specified by the n parameter.\n",
    "##### data.describe(): This command prints a summary of the DataFrame, including the mean, standard deviation, minimum, and maximum values.\n",
    "##### data.info(): This command prints information about the DataFrame, including the number of rows and columns, the data types of the columns, and the missing values."
   ]
  },
  {
   "cell_type": "markdown",
   "metadata": {},
   "source": [
    "# ++++++++++++++++++++\n",
    "# loc\n",
    "#### https://www.youtube.com/watch?v=naRQyRZrXCE\n",
    "#### https://www.w3schools.com/python/pandas/ref_df_iloc.asp\n",
    "\n",
    "\n",
    "\n",
    "## df.loc[start_row: end_row , start_column : end_column]\n",
    "\n",
    "## df.loc[[list of row indexs] ,  :] and revers for columns\n",
    "\n",
    "## df.loc[ : , : ]\n",
    "\n",
    "## df.loc[ : , \"column name\"]  get all rows of this column\n",
    "\n",
    "\n",
    "## df.loc[ : , [\"column name1 \", \"column name2\"]]  get all rows of this columns in a list\n",
    "\n",
    "## df.loc[ : , \"from column name 1\" : \"to column name 2\" ]\n",
    "\n",
    "## df.loc[ df.column name == \"something\", \"another column name\"]\n",
    "### return a column with reletive values of another column\n",
    "\n",
    "\n",
    "\n",
    "# ---------------------------------------------------------------------------------------\n",
    "\n",
    "# * The loc and iloc functions in Pandas are used to slice a data set. \n",
    "# * The function .loc is primarily used for label indexing, while .\n",
    "# * iloc is mainly used for integer indexing."
   ]
  },
  {
   "cell_type": "markdown",
   "metadata": {},
   "source": [
    "# ++++++++++++++++++++\n",
    "# DATA ClEANING\n",
    "\n",
    "## fill nan vlaues \n",
    "### filna(0) fill any nan values to 0"
   ]
  },
  {
   "cell_type": "code",
   "execution_count": null,
   "metadata": {},
   "outputs": [],
   "source": []
  }
 ],
 "metadata": {
  "kernelspec": {
   "display_name": "Python 3 (ipykernel)",
   "language": "python",
   "name": "python3"
  },
  "language_info": {
   "codemirror_mode": {
    "name": "ipython",
    "version": 3
   },
   "file_extension": ".py",
   "mimetype": "text/x-python",
   "name": "python",
   "nbconvert_exporter": "python",
   "pygments_lexer": "ipython3",
   "version": "3.11.4"
  }
 },
 "nbformat": 4,
 "nbformat_minor": 2
}
