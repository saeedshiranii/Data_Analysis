{
 "cells": [
  {
   "cell_type": "code",
   "execution_count": null,
   "id": "f061859f-e351-4cb7-8860-091ce38586d7",
   "metadata": {},
   "outputs": [],
   "source": [
    "# https://www.youtube.com/watch?v=0Lt9w-BxKFQ\n",
    "# https://www.youtube.com/watch?v=pqNCD_5r0IU\n",
    "# https://www.youtube.com/watch?v=0B5eIE_1vpU\n"
   ]
  }
 ],
 "metadata": {
  "kernelspec": {
   "display_name": "Python 3 (ipykernel)",
   "language": "python",
   "name": "python3"
  },
  "language_info": {
   "codemirror_mode": {
    "name": "ipython",
    "version": 3
   },
   "file_extension": ".py",
   "mimetype": "text/x-python",
   "name": "python",
   "nbconvert_exporter": "python",
   "pygments_lexer": "ipython3",
   "version": "3.11.4"
  }
 },
 "nbformat": 4,
 "nbformat_minor": 5
}
